{
  "cells": [
    {
      "cell_type": "markdown",
      "metadata": {
        "id": "view-in-github",
        "colab_type": "text"
      },
      "source": [
        "<a href=\"https://colab.research.google.com/github/GIT-REPO-JAGAN/DEVOPS-AWS/blob/main/Python_Class.ipynb\" target=\"_parent\"><img src=\"https://colab.research.google.com/assets/colab-badge.svg\" alt=\"Open In Colab\"/></a>"
      ]
    },
    {
      "cell_type": "markdown",
      "source": [
        "## Class 2\n",
        "\n"
      ],
      "metadata": {
        "id": "KPFaosdMrkkc"
      }
    },
    {
      "cell_type": "markdown",
      "source": [
        "### Python :\tSource code (.py) --Compiled--> Byte code (.pyc) --Interpreter--> Machine code -Executed-> Output\n"
      ],
      "metadata": {
        "id": "q9KaL61cr4fT"
      }
    },
    {
      "cell_type": "code",
      "source": [
        "# in other laungauge we go with the vale like eg laun C, C++, Java.....\n",
        "# int a = 10\n",
        "# char b = sttt\n",
        "\n",
        "# In python we can use the values dire....\n",
        "\n",
        "a = 10 ; print(a)\n",
        "b = 5; print(b)\n",
        "c = a / b\n",
        "print(c)"
      ],
      "metadata": {
        "id": "nMsPz2-ZsBsE",
        "outputId": "9bc9ce90-ab47-4840-be71-154add49add6",
        "colab": {
          "base_uri": "https://localhost:8080/"
        }
      },
      "execution_count": null,
      "outputs": [
        {
          "output_type": "stream",
          "name": "stdout",
          "text": [
            "10\n",
            "5\n",
            "2.0\n"
          ]
        }
      ]
    },
    {
      "cell_type": "code",
      "source": [
        "a = 10 ; print(a)\n",
        "b = 5; print(b)\n",
        "c = a / b\n",
        "print(c)"
      ],
      "metadata": {
        "id": "XQ_q5CVHtUVa",
        "outputId": "77eca630-f35d-4226-8d11-6df56b6d8432",
        "colab": {
          "base_uri": "https://localhost:8080/"
        }
      },
      "execution_count": null,
      "outputs": [
        {
          "output_type": "stream",
          "name": "stdout",
          "text": [
            "10\n",
            "5\n",
            "2.0\n"
          ]
        }
      ]
    },
    {
      "cell_type": "code",
      "source": [
        "a = 10;print(a);b = 5\n",
        "print(b    # Syntex error : It will be checked during Compiler function, it will not move further to Interpreter\n",
        "c = a / b\n",
        "print(c)"
      ],
      "metadata": {
        "id": "Ej9HgLZTt3ER",
        "outputId": "12ae41c6-4a45-41e3-98c3-14615fa56c4c",
        "colab": {
          "base_uri": "https://localhost:8080/",
          "height": 143
        }
      },
      "execution_count": null,
      "outputs": [
        {
          "output_type": "error",
          "ename": "SyntaxError",
          "evalue": "ignored",
          "traceback": [
            "\u001b[0;36m  File \u001b[0;32m\"<ipython-input-10-b2c83f3abdc5>\"\u001b[0;36m, line \u001b[0;32m2\u001b[0m\n\u001b[0;31m    print(b    # Syntex error : It will be checked during Compiler function, it will not move further to Interpreter\u001b[0m\n\u001b[0m         ^\u001b[0m\n\u001b[0;31mSyntaxError\u001b[0m\u001b[0;31m:\u001b[0m '(' was never closed\n"
          ]
        }
      ]
    },
    {
      "cell_type": "markdown",
      "source": [
        "##Memorry Management\n",
        "\n",
        "'''Memory reusability / Interning\n",
        "\n",
        "    H -> Integers: Range of values (-5 to 256) Pre-loaded values\n",
        "    Float : No memory reusability\n",
        "    H -> String: Follows Rules of identifires Between 0-9, a-z, A-Z, _, no spaces\n",
        "    H -> Boolen: True / False Pre-loaded values\n",
        "    Special: None Pre-loaded values      \n",
        "    Complex : No memory reusability'''\n",
        "\n"
      ],
      "metadata": {
        "id": "jnp07x01zhuo"
      }
    },
    {
      "cell_type": "code",
      "source": [
        "a = 1000\n",
        "print(id(a))"
      ],
      "metadata": {
        "colab": {
          "base_uri": "https://localhost:8080/"
        },
        "id": "9wq_rRP4zk7H",
        "outputId": "3bb96a4b-d2a1-466d-af3a-6135a0c886e3"
      },
      "execution_count": null,
      "outputs": [
        {
          "output_type": "stream",
          "name": "stdout",
          "text": [
            "134598258236848\n"
          ]
        }
      ]
    },
    {
      "cell_type": "code",
      "source": [
        "d = a; print(d); print(id(d))"
      ],
      "metadata": {
        "colab": {
          "base_uri": "https://localhost:8080/"
        },
        "id": "3iryHiy8z-gD",
        "outputId": "1533278a-a953-4494-f35f-882145bf02f4"
      },
      "execution_count": null,
      "outputs": [
        {
          "output_type": "stream",
          "name": "stdout",
          "text": [
            "1000\n",
            "134598258232592\n"
          ]
        }
      ]
    },
    {
      "cell_type": "code",
      "source": [
        "c = 1000; print (c); print (id(c))\n"
      ],
      "metadata": {
        "colab": {
          "base_uri": "https://localhost:8080/"
        },
        "id": "DPxSTMHq0DXB",
        "outputId": "a9b34770-e53c-41a2-a10b-1b032f3ba63b"
      },
      "execution_count": null,
      "outputs": [
        {
          "output_type": "stream",
          "name": "stdout",
          "text": [
            "1000\n",
            "134598258236880\n"
          ]
        }
      ]
    },
    {
      "cell_type": "code",
      "source": [
        "f = 1000 ; print(d); print(id (f))"
      ],
      "metadata": {
        "colab": {
          "base_uri": "https://localhost:8080/"
        },
        "id": "9rUZAcvb0aV7",
        "outputId": "a32703ce-ce27-4a8f-8867-d8673ee2f68d"
      },
      "execution_count": null,
      "outputs": [
        {
          "output_type": "stream",
          "name": "stdout",
          "text": [
            "1000\n",
            "134598258238992\n"
          ]
        }
      ]
    },
    {
      "cell_type": "code",
      "source": [
        "g = 100; print(g); print(id(g))"
      ],
      "metadata": {
        "colab": {
          "base_uri": "https://localhost:8080/"
        },
        "id": "Ex5ZLqmy0j26",
        "outputId": "e53a4621-74cf-4ccd-af4a-a726e85bf1b8"
      },
      "execution_count": null,
      "outputs": [
        {
          "output_type": "stream",
          "name": "stdout",
          "text": [
            "100\n",
            "134598686428496\n"
          ]
        }
      ]
    },
    {
      "cell_type": "code",
      "source": [
        "h = 100; print(h); print(id(h))\n"
      ],
      "metadata": {
        "colab": {
          "base_uri": "https://localhost:8080/"
        },
        "id": "mzySW4V-0qhE",
        "outputId": "9be311aa-5e47-4531-c4c3-c2ed67fff88f"
      },
      "execution_count": null,
      "outputs": [
        {
          "output_type": "stream",
          "name": "stdout",
          "text": [
            "100\n",
            "134598686428496\n"
          ]
        }
      ]
    },
    {
      "cell_type": "code",
      "source": [
        "i = 100; print(i); print (id (i))\n"
      ],
      "metadata": {
        "colab": {
          "base_uri": "https://localhost:8080/"
        },
        "id": "Ro7uqJ7-1T-w",
        "outputId": "73ff4baa-5511-4360-85ae-af3cc444fccb"
      },
      "execution_count": null,
      "outputs": [
        {
          "output_type": "stream",
          "name": "stdout",
          "text": [
            "100\n",
            "134598686428496\n"
          ]
        }
      ]
    },
    {
      "cell_type": "markdown",
      "source": [
        "## **Literals**  -----  Python supports following Literals:\n",
        "\n",
        "Numerical Literal\n",
        "\n",
        "1. Integer 0-9 - Base 10\n",
        "2. Binary 0, 1 - Base 2\n",
        "3. Octal : 0-7 - Base 8\n",
        "4. Hexadecimal Base 16 - 0-9 and A-F\n",
        "5. Float fractional numbers / Decimals\n",
        "6. Complex a + bj\n",
        "    * a => real part\n",
        "    * b => imaginary part\n",
        "    * j => iota => square root of -1\n",
        "7. String Literal sequence of characters enclosed within qoutes\n",
        "8. Boolean Literal True, False\n",
        "9. Special Literal None\n"
      ],
      "metadata": {
        "id": "CWNWTSRH199W"
      }
    },
    {
      "cell_type": "code",
      "source": [
        "a = 200   # Integer\n",
        "print(a)\n",
        "type(a)"
      ],
      "metadata": {
        "colab": {
          "base_uri": "https://localhost:8080/"
        },
        "id": "2ACTIZw92LlP",
        "outputId": "ce9d1a1b-6d6d-494d-f7fc-43cc1a035070"
      },
      "execution_count": null,
      "outputs": [
        {
          "output_type": "stream",
          "name": "stdout",
          "text": [
            "200\n"
          ]
        },
        {
          "output_type": "execute_result",
          "data": {
            "text/plain": [
              "int"
            ]
          },
          "metadata": {},
          "execution_count": 10
        }
      ]
    },
    {
      "cell_type": "code",
      "source": [
        "b = 0b1010 # Binary   Converting this binary number to an integer\n",
        "print(b)\n",
        "type(b)"
      ],
      "metadata": {
        "colab": {
          "base_uri": "https://localhost:8080/"
        },
        "id": "aeZPC2RT2iET",
        "outputId": "5c6a6092-12b9-4e93-b25d-b9c9568a2928"
      },
      "execution_count": null,
      "outputs": [
        {
          "output_type": "stream",
          "name": "stdout",
          "text": [
            "10\n"
          ]
        },
        {
          "output_type": "execute_result",
          "data": {
            "text/plain": [
              "int"
            ]
          },
          "metadata": {},
          "execution_count": 11
        }
      ]
    },
    {
      "cell_type": "code",
      "source": [
        "c = print(bin(8)); type(c)"
      ],
      "metadata": {
        "colab": {
          "base_uri": "https://localhost:8080/"
        },
        "id": "l_lft2zQ3t7z",
        "outputId": "051404af-8e9b-42dc-ea32-c180bfa78611"
      },
      "execution_count": null,
      "outputs": [
        {
          "output_type": "stream",
          "name": "stdout",
          "text": [
            "0b1000\n"
          ]
        },
        {
          "output_type": "execute_result",
          "data": {
            "text/plain": [
              "NoneType"
            ]
          },
          "metadata": {},
          "execution_count": 13
        }
      ]
    },
    {
      "cell_type": "code",
      "source": [
        "c = 0o20   # Octal                 Converting this Octal number to an integer                IT WORKS :-      2 * 8^1 + 0 * 8^0 = 2 * 8 + 0 * 1 = 16 + 0 = 16\n",
        "print(c)"
      ],
      "metadata": {
        "colab": {
          "base_uri": "https://localhost:8080/"
        },
        "id": "dDIZuIIA4uY0",
        "outputId": "3ac9d0b0-7260-4f39-d651-94ab0aa4758e"
      },
      "execution_count": null,
      "outputs": [
        {
          "output_type": "stream",
          "name": "stdout",
          "text": [
            "16\n"
          ]
        }
      ]
    },
    {
      "cell_type": "code",
      "source": [
        "d = 0x1A   # Hexadecimal           Converting this Hexadecimal number to an integer           IT WORKS :-     1 * 16^1 + A * 16^0 = 1 * 16 + 10 * 1 = 16 + 10 = 26\n",
        "print(d)"
      ],
      "metadata": {
        "colab": {
          "base_uri": "https://localhost:8080/"
        },
        "id": "jBRIui3x5H7S",
        "outputId": "0d684426-e7f1-48df-98b1-d6040c843771"
      },
      "execution_count": null,
      "outputs": [
        {
          "output_type": "stream",
          "name": "stdout",
          "text": [
            "26\n"
          ]
        }
      ]
    },
    {
      "cell_type": "code",
      "source": [
        "print(hex(8)) # Also possible converting Integer - Hexadecimal"
      ],
      "metadata": {
        "colab": {
          "base_uri": "https://localhost:8080/"
        },
        "id": "S1KS_EM75XQm",
        "outputId": "2cd55166-1816-4c79-b12e-1ac2d0a2f049"
      },
      "execution_count": null,
      "outputs": [
        {
          "output_type": "stream",
          "name": "stdout",
          "text": [
            "0x8\n"
          ]
        }
      ]
    },
    {
      "cell_type": "code",
      "source": [
        "f = 10.5    # Floats\n",
        "print(f)\n",
        "type(f)"
      ],
      "metadata": {
        "colab": {
          "base_uri": "https://localhost:8080/"
        },
        "id": "lTS0SE2S5-Rx",
        "outputId": "f6192c73-7617-4d2f-ef0e-5268faf26827"
      },
      "execution_count": null,
      "outputs": [
        {
          "output_type": "stream",
          "name": "stdout",
          "text": [
            "10.5\n"
          ]
        },
        {
          "output_type": "execute_result",
          "data": {
            "text/plain": [
              "float"
            ]
          },
          "metadata": {},
          "execution_count": 19
        }
      ]
    },
    {
      "cell_type": "code",
      "source": [
        "# Complex number => real part + imaginary part\n",
        "# a + bj"
      ],
      "metadata": {
        "id": "VDRjXy3h6eYx"
      },
      "execution_count": null,
      "outputs": []
    },
    {
      "cell_type": "code",
      "source": [
        "c = 5 + 3j\n",
        "print(c)\n",
        "\n",
        "d= c / 2;  print(d)"
      ],
      "metadata": {
        "colab": {
          "base_uri": "https://localhost:8080/"
        },
        "id": "lhyPhWYz6s_i",
        "outputId": "a21013cc-f9bb-4ee1-de38-d963e6b307bf"
      },
      "execution_count": null,
      "outputs": [
        {
          "output_type": "stream",
          "name": "stdout",
          "text": [
            "(5+3j)\n",
            "(2.5+1.5j)\n"
          ]
        }
      ]
    },
    {
      "cell_type": "code",
      "source": [
        "d.real"
      ],
      "metadata": {
        "colab": {
          "base_uri": "https://localhost:8080/"
        },
        "id": "SFNhkprK69YE",
        "outputId": "80602cfc-e3c4-497c-ea4f-a81e2a6f6de9"
      },
      "execution_count": null,
      "outputs": [
        {
          "output_type": "execute_result",
          "data": {
            "text/plain": [
              "2.5"
            ]
          },
          "metadata": {},
          "execution_count": 25
        }
      ]
    },
    {
      "cell_type": "code",
      "source": [
        "d.imag"
      ],
      "metadata": {
        "colab": {
          "base_uri": "https://localhost:8080/"
        },
        "id": "9C6_4oCc6_xH",
        "outputId": "8d469830-e0f4-4f9b-c449-b1a0651fe448"
      },
      "execution_count": null,
      "outputs": [
        {
          "output_type": "execute_result",
          "data": {
            "text/plain": [
              "1.5"
            ]
          },
          "metadata": {},
          "execution_count": 26
        }
      ]
    },
    {
      "cell_type": "code",
      "source": [
        "\"\"\"String literal: sequence of characters enclosed within qoutes\"\"\"\n",
        "s1 = 'hello world'                      ;  print(s1)\n",
        "s2 = \"How are you?\"                     ;  print(s2)\n",
        "s3 = '''We are learning Python'''       ;  print(s3)\n",
        "s4 = '''Hello\n",
        "How are you?\n",
        "Bye!!'''                                 ;  print(s4)\n",
        "\n",
        "s4  # See the output with \\n indicates next"
      ],
      "metadata": {
        "colab": {
          "base_uri": "https://localhost:8080/",
          "height": 142
        },
        "id": "AISf4RvO7JFt",
        "outputId": "ea578b9c-ebe4-4b93-b7a1-0519330f9538"
      },
      "execution_count": null,
      "outputs": [
        {
          "output_type": "stream",
          "name": "stdout",
          "text": [
            "hello world\n",
            "How are you?\n",
            "We are learning Python\n",
            "Hello\n",
            "How are you?\n",
            "Bye!!\n"
          ]
        },
        {
          "output_type": "execute_result",
          "data": {
            "text/plain": [
              "'Hello\\nHow are you?\\nBye!!'"
            ],
            "application/vnd.google.colaboratory.intrinsic+json": {
              "type": "string"
            }
          },
          "metadata": {},
          "execution_count": 27
        }
      ]
    },
    {
      "cell_type": "code",
      "source": [
        "print(10, 20, 30)\n",
        "print(10, 20, 30, sep='*')\n",
        "print(10, 20, 30, sep='&', end=\"*\")"
      ],
      "metadata": {
        "colab": {
          "base_uri": "https://localhost:8080/"
        },
        "id": "djFaZXQK77B1",
        "outputId": "91d277ec-06f8-4cc9-f073-936f9f33f739"
      },
      "execution_count": null,
      "outputs": [
        {
          "output_type": "stream",
          "name": "stdout",
          "text": [
            "10 20 30\n",
            "10*20*30\n",
            "10&20&30*"
          ]
        }
      ]
    },
    {
      "cell_type": "code",
      "source": [
        "\"\"\"Boolean literal: True, False\"\"\"\n",
        "\n",
        "T = True\n",
        "F = False\n",
        "\n",
        "print(T); print(F)\n",
        "print(id(T)); print(id(F))"
      ],
      "metadata": {
        "colab": {
          "base_uri": "https://localhost:8080/"
        },
        "id": "VZttmkR68ejO",
        "outputId": "7ac33159-d7cb-48f7-f49d-e02d814b9b3f"
      },
      "execution_count": null,
      "outputs": [
        {
          "output_type": "stream",
          "name": "stdout",
          "text": [
            "True\n",
            "False\n",
            "100182526202912\n",
            "100182526202880\n"
          ]
        }
      ]
    },
    {
      "cell_type": "code",
      "source": [
        "\"\"\"Boolean literal: True, False\"\"\"\n",
        "\n",
        "G = True\n",
        "H = False\n",
        "\n",
        "print(G); print(H)\n",
        "print(id(G)); print(id(H))"
      ],
      "metadata": {
        "colab": {
          "base_uri": "https://localhost:8080/"
        },
        "id": "iRkYYD-R8raX",
        "outputId": "8ee06771-81e9-4a55-a7d6-c4f8a370d755"
      },
      "execution_count": null,
      "outputs": [
        {
          "output_type": "stream",
          "name": "stdout",
          "text": [
            "True\n",
            "False\n",
            "100182526202912\n",
            "100182526202880\n"
          ]
        }
      ]
    },
    {
      "cell_type": "markdown",
      "source": [
        "## Arithmetic operators - ( +, -, , /, //, *, % )\n",
        "\n",
        "\n",
        "    Compound assignment operators\n",
        "    Comparison operators - (- >, <, >=, <=, ==, !=)\n"
      ],
      "metadata": {
        "id": "UsqtvL429pFe"
      }
    },
    {
      "cell_type": "code",
      "source": [
        "A1 = 10 + 20 ; print(A1)  # Addition"
      ],
      "metadata": {
        "colab": {
          "base_uri": "https://localhost:8080/"
        },
        "id": "E4a-U_V79s1G",
        "outputId": "6a1ea0d1-aab4-4923-8ee8-723c0e3ec1d4"
      },
      "execution_count": null,
      "outputs": [
        {
          "output_type": "stream",
          "name": "stdout",
          "text": [
            "30\n"
          ]
        }
      ]
    },
    {
      "cell_type": "code",
      "source": [
        "A2 = 30 - 3 ; print(A2)   # Sub"
      ],
      "metadata": {
        "colab": {
          "base_uri": "https://localhost:8080/"
        },
        "id": "tl1Vymug964v",
        "outputId": "cc980a18-c00d-46cd-d2e6-83201d0179b2"
      },
      "execution_count": null,
      "outputs": [
        {
          "output_type": "stream",
          "name": "stdout",
          "text": [
            "27\n"
          ]
        }
      ]
    },
    {
      "cell_type": "code",
      "source": [
        "A3 = 3 * 5  ; print(A3)   # Mul"
      ],
      "metadata": {
        "colab": {
          "base_uri": "https://localhost:8080/"
        },
        "id": "1Z-ORQ6g9_La",
        "outputId": "3102c1e3-7307-406a-da60-f1c99ae10aff"
      },
      "execution_count": null,
      "outputs": [
        {
          "output_type": "stream",
          "name": "stdout",
          "text": [
            "15\n"
          ]
        }
      ]
    },
    {
      "cell_type": "code",
      "source": [
        "A4 = 10 / 2 ; print(A4)   # Division always gives flot output"
      ],
      "metadata": {
        "colab": {
          "base_uri": "https://localhost:8080/"
        },
        "id": "LM6Pktmn-COg",
        "outputId": "3d4dd238-28cf-4fad-ec86-bed295d834d4"
      },
      "execution_count": null,
      "outputs": [
        {
          "output_type": "stream",
          "name": "stdout",
          "text": [
            "5.0\n"
          ]
        }
      ]
    },
    {
      "cell_type": "code",
      "source": [
        "A5 = 10 // 2 ; print(A5)  # // - floor division/ integer division"
      ],
      "metadata": {
        "colab": {
          "base_uri": "https://localhost:8080/"
        },
        "id": "IUtKq0vp-Iwr",
        "outputId": "2c865de4-084d-4ee6-a692-11b0d79cf231"
      },
      "execution_count": null,
      "outputs": [
        {
          "output_type": "stream",
          "name": "stdout",
          "text": [
            "5\n"
          ]
        }
      ]
    },
    {
      "cell_type": "code",
      "source": [
        "A6 = 10 % 2  ; print(A6)  # % - modulus operator - the remainder of the division"
      ],
      "metadata": {
        "colab": {
          "base_uri": "https://localhost:8080/"
        },
        "id": "Ie9bvW1V-NWo",
        "outputId": "7523be98-2df2-4f0d-ca8b-713cab4f2dfb"
      },
      "execution_count": null,
      "outputs": [
        {
          "output_type": "stream",
          "name": "stdout",
          "text": [
            "0\n"
          ]
        }
      ]
    },
    {
      "cell_type": "code",
      "source": [
        "A7 = 5 ** 2 ; print(A7)   # 5 to the power of 2  \"\" ** = exponent operator   \"\""
      ],
      "metadata": {
        "colab": {
          "base_uri": "https://localhost:8080/"
        },
        "id": "3z69ypHH-ZdQ",
        "outputId": "fd00a657-782c-4907-999a-58c3f4c81f54"
      },
      "execution_count": null,
      "outputs": [
        {
          "output_type": "stream",
          "name": "stdout",
          "text": [
            "25\n"
          ]
        }
      ]
    },
    {
      "cell_type": "code",
      "source": [
        "A8 = 5 ** 5 ;print(A8)"
      ],
      "metadata": {
        "colab": {
          "base_uri": "https://localhost:8080/"
        },
        "id": "XHdSF2fW-eko",
        "outputId": "62d5bc70-93a4-4204-dede-4bd5f4b57f76"
      },
      "execution_count": null,
      "outputs": [
        {
          "output_type": "stream",
          "name": "stdout",
          "text": [
            "3125\n"
          ]
        }
      ]
    },
    {
      "cell_type": "code",
      "source": [
        "q = 6 ; print(q)"
      ],
      "metadata": {
        "colab": {
          "base_uri": "https://localhost:8080/"
        },
        "id": "GzTYqfyb_BkB",
        "outputId": "4cb450a5-81a4-4b52-c107-b0afd31bc69a"
      },
      "execution_count": null,
      "outputs": [
        {
          "output_type": "stream",
          "name": "stdout",
          "text": [
            "6\n"
          ]
        }
      ]
    },
    {
      "cell_type": "code",
      "source": [
        "w = 7 ; print(w)"
      ],
      "metadata": {
        "colab": {
          "base_uri": "https://localhost:8080/"
        },
        "id": "LbPpndjz_PEt",
        "outputId": "5924fea1-fd91-4372-c464-d087508448e8"
      },
      "execution_count": null,
      "outputs": [
        {
          "output_type": "stream",
          "name": "stdout",
          "text": [
            "7\n"
          ]
        }
      ]
    },
    {
      "cell_type": "code",
      "source": [
        "t = q / w; print(t)\n"
      ],
      "metadata": {
        "colab": {
          "base_uri": "https://localhost:8080/"
        },
        "id": "5KUDmeFa_UUd",
        "outputId": "13b98b58-df9c-4426-c9a0-83932494cc7d"
      },
      "execution_count": null,
      "outputs": [
        {
          "output_type": "stream",
          "name": "stdout",
          "text": [
            "0.8571428571428571\n"
          ]
        }
      ]
    },
    {
      "cell_type": "code",
      "source": [
        "x = 10\n",
        "x + 5\n",
        "x\n",
        "print(x)"
      ],
      "metadata": {
        "colab": {
          "base_uri": "https://localhost:8080/"
        },
        "id": "PYwzJUZi_lKN",
        "outputId": "51a56ad6-27a7-4fa4-d6b2-0ae1ec981a20"
      },
      "execution_count": null,
      "outputs": [
        {
          "output_type": "stream",
          "name": "stdout",
          "text": [
            "10\n"
          ]
        }
      ]
    },
    {
      "cell_type": "code",
      "source": [
        "y = 10\n",
        "y += 5\n",
        "print(y)"
      ],
      "metadata": {
        "colab": {
          "base_uri": "https://localhost:8080/"
        },
        "id": "lxuXCmKkAH9d",
        "outputId": "cb472fb2-cd0c-4979-aa25-9d6bada36485"
      },
      "execution_count": null,
      "outputs": [
        {
          "output_type": "stream",
          "name": "stdout",
          "text": [
            "15\n"
          ]
        }
      ]
    },
    {
      "cell_type": "code",
      "source": [
        "x = 15\n",
        "print (x)\n",
        "\n",
        "y = 20\n",
        "print (y)"
      ],
      "metadata": {
        "colab": {
          "base_uri": "https://localhost:8080/"
        },
        "id": "aGlDZHsuCG6p",
        "outputId": "3b0435e9-7cbe-4570-875d-aa0ef68cd248"
      },
      "execution_count": null,
      "outputs": [
        {
          "output_type": "stream",
          "name": "stdout",
          "text": [
            "15\n",
            "20\n"
          ]
        }
      ]
    },
    {
      "cell_type": "code",
      "source": [
        "x *= 10;\n",
        "print (x)"
      ],
      "metadata": {
        "colab": {
          "base_uri": "https://localhost:8080/"
        },
        "id": "IA5Os25nEWRo",
        "outputId": "fd852e41-ada8-471e-9ea6-c41ad33f3947"
      },
      "execution_count": null,
      "outputs": [
        {
          "output_type": "stream",
          "name": "stdout",
          "text": [
            "150\n"
          ]
        }
      ]
    },
    {
      "cell_type": "code",
      "source": [
        "a= 10 + 3 ; print(a)"
      ],
      "metadata": {
        "colab": {
          "base_uri": "https://localhost:8080/"
        },
        "id": "-cE4VCpjEnpd",
        "outputId": "3f89f988-aca5-4f3f-8665-8706766c5ac7"
      },
      "execution_count": null,
      "outputs": [
        {
          "output_type": "stream",
          "name": "stdout",
          "text": [
            "13\n"
          ]
        }
      ]
    },
    {
      "cell_type": "code",
      "source": [
        "a= 10 > 3 ; print(a)"
      ],
      "metadata": {
        "colab": {
          "base_uri": "https://localhost:8080/"
        },
        "id": "QAkNqoSSE2C7",
        "outputId": "50da1740-f512-4abe-a325-f132dfd015b7"
      },
      "execution_count": null,
      "outputs": [
        {
          "output_type": "stream",
          "name": "stdout",
          "text": [
            "True\n"
          ]
        }
      ]
    },
    {
      "cell_type": "code",
      "source": [
        "b= 5 == 5 ; print(b)"
      ],
      "metadata": {
        "colab": {
          "base_uri": "https://localhost:8080/"
        },
        "id": "1UfieC0hE7sE",
        "outputId": "bb47c98b-7d90-4e4f-f08b-81d7781a82ab"
      },
      "execution_count": null,
      "outputs": [
        {
          "output_type": "stream",
          "name": "stdout",
          "text": [
            "True\n"
          ]
        }
      ]
    },
    {
      "cell_type": "code",
      "source": [
        "c= 4 != 10; print(c)"
      ],
      "metadata": {
        "colab": {
          "base_uri": "https://localhost:8080/"
        },
        "id": "lPkmX0siE-na",
        "outputId": "b6b65a4e-a895-4713-9666-7d7a0cc11754"
      },
      "execution_count": null,
      "outputs": [
        {
          "output_type": "stream",
          "name": "stdout",
          "text": [
            "True\n"
          ]
        }
      ]
    },
    {
      "cell_type": "code",
      "source": [
        "d= 4 >= 1 ; print(d)"
      ],
      "metadata": {
        "colab": {
          "base_uri": "https://localhost:8080/"
        },
        "id": "UmzuWsMJFEQm",
        "outputId": "c6fc2c94-a460-4c3e-9653-0e4c028ced53"
      },
      "execution_count": null,
      "outputs": [
        {
          "output_type": "stream",
          "name": "stdout",
          "text": [
            "True\n"
          ]
        }
      ]
    },
    {
      "cell_type": "code",
      "source": [
        "e = 'Python' == 'Python' ; print(e)"
      ],
      "metadata": {
        "colab": {
          "base_uri": "https://localhost:8080/"
        },
        "id": "IWbEkuewFJLQ",
        "outputId": "8882f79e-43b1-4425-c625-dd2dfb2b1e67"
      },
      "execution_count": null,
      "outputs": [
        {
          "output_type": "stream",
          "name": "stdout",
          "text": [
            "True\n"
          ]
        }
      ]
    },
    {
      "cell_type": "code",
      "source": [
        "f = 'Python' == 'python' ; print(f)"
      ],
      "metadata": {
        "colab": {
          "base_uri": "https://localhost:8080/"
        },
        "id": "_dHaytEIFRWm",
        "outputId": "6453f1f8-8327-4685-fd50-b0f063313ea4"
      },
      "execution_count": null,
      "outputs": [
        {
          "output_type": "stream",
          "name": "stdout",
          "text": [
            "False\n"
          ]
        }
      ]
    },
    {
      "cell_type": "code",
      "source": [
        "g = 'Python' < 'python'  ; print(g)"
      ],
      "metadata": {
        "colab": {
          "base_uri": "https://localhost:8080/"
        },
        "id": "3RgDSl-lFvYl",
        "outputId": "566e0447-7517-4f3e-8244-b1aea10a40e8"
      },
      "execution_count": null,
      "outputs": [
        {
          "output_type": "stream",
          "name": "stdout",
          "text": [
            "True\n"
          ]
        }
      ]
    },
    {
      "cell_type": "code",
      "source": [
        "h = 'python' < 'Python'  ; print(h)"
      ],
      "metadata": {
        "colab": {
          "base_uri": "https://localhost:8080/"
        },
        "id": "w1uzbuJyHMOA",
        "outputId": "f94c2eef-fbdf-4cbe-aeff-45ddab7731e3"
      },
      "execution_count": null,
      "outputs": [
        {
          "output_type": "stream",
          "name": "stdout",
          "text": [
            "False\n"
          ]
        }
      ]
    },
    {
      "cell_type": "code",
      "source": [
        "i = 'python' == 'python'  ; print(i)"
      ],
      "metadata": {
        "colab": {
          "base_uri": "https://localhost:8080/"
        },
        "id": "3H6gekdTHbW4",
        "outputId": "03a37944-42f3-4144-d9ba-35b60584d449"
      },
      "execution_count": null,
      "outputs": [
        {
          "output_type": "stream",
          "name": "stdout",
          "text": [
            "True\n"
          ]
        }
      ]
    },
    {
      "cell_type": "code",
      "source": [
        "j = 'ABCD' < 'word'  ; print(j)"
      ],
      "metadata": {
        "colab": {
          "base_uri": "https://localhost:8080/"
        },
        "id": "tFfNA0RnHpZ-",
        "outputId": "513fe4dd-f5b0-40b8-8aad-b412b219997c"
      },
      "execution_count": null,
      "outputs": [
        {
          "output_type": "stream",
          "name": "stdout",
          "text": [
            "True\n"
          ]
        }
      ]
    },
    {
      "cell_type": "code",
      "source": [
        "k = 'ABCD' == 'DCBA'  ; print(k)"
      ],
      "metadata": {
        "colab": {
          "base_uri": "https://localhost:8080/"
        },
        "id": "-SC49kOaIYTR",
        "outputId": "fac21d19-dbd7-48c2-f1cb-aa62d1ed52b2"
      },
      "execution_count": null,
      "outputs": [
        {
          "output_type": "stream",
          "name": "stdout",
          "text": [
            "False\n"
          ]
        }
      ]
    },
    {
      "cell_type": "code",
      "source": [
        "Identifier: A name given to a variable, function, class\n",
        "\n",
        "Rules for defining an identifier:\n",
        "\n",
        "    Can only contain - a-z, A-Z, 0-9, _\n",
        "    Special characters are NOT allowed: ^, &, @, #, .....\n",
        "    Cannot start with a digit (0-9)\n",
        "    Case sensitive - 'var' and 'Var' are different\n",
        "    Do not use In-built functions as identifier"
      ],
      "metadata": {
        "id": "A_xiEylUGZde"
      },
      "execution_count": null,
      "outputs": []
    },
    {
      "cell_type": "code",
      "source": [
        "Var_1 = 100            # Can only contain - a-z, A-Z, 0-9, _\n",
        "print(Var_1)"
      ],
      "metadata": {
        "colab": {
          "base_uri": "https://localhost:8080/"
        },
        "id": "NdK5lEN3GuJn",
        "outputId": "227dbac7-b7ee-4346-8edc-0b3636669564"
      },
      "execution_count": null,
      "outputs": [
        {
          "output_type": "stream",
          "name": "stdout",
          "text": [
            "100\n"
          ]
        }
      ]
    },
    {
      "cell_type": "code",
      "source": [
        "var_# = 200"
      ],
      "metadata": {
        "colab": {
          "base_uri": "https://localhost:8080/",
          "height": 177
        },
        "id": "ym34Nh6gHGBT",
        "outputId": "1db71d17-cf40-4fff-a220-b799ef00969e"
      },
      "execution_count": null,
      "outputs": [
        {
          "output_type": "error",
          "ename": "NameError",
          "evalue": "ignored",
          "traceback": [
            "\u001b[0;31m---------------------------------------------------------------------------\u001b[0m",
            "\u001b[0;31mNameError\u001b[0m                                 Traceback (most recent call last)",
            "\u001b[0;32m<ipython-input-2-ec35b074ba45>\u001b[0m in \u001b[0;36m<cell line: 1>\u001b[0;34m()\u001b[0m\n\u001b[0;32m----> 1\u001b[0;31m \u001b[0mvar_\u001b[0m\u001b[0;31m# = 200\u001b[0m\u001b[0;34m\u001b[0m\u001b[0;34m\u001b[0m\u001b[0m\n\u001b[0m",
            "\u001b[0;31mNameError\u001b[0m: name 'var_' is not defined"
          ]
        }
      ]
    },
    {
      "cell_type": "code",
      "source": [
        "1var = 20"
      ],
      "metadata": {
        "colab": {
          "base_uri": "https://localhost:8080/",
          "height": 142
        },
        "id": "CLmfX2daHfsX",
        "outputId": "6642d905-cb50-4d35-bc90-7d6f42a0b026"
      },
      "execution_count": null,
      "outputs": [
        {
          "output_type": "error",
          "ename": "SyntaxError",
          "evalue": "ignored",
          "traceback": [
            "\u001b[0;36m  File \u001b[0;32m\"<ipython-input-3-2eac37bb8e52>\"\u001b[0;36m, line \u001b[0;32m1\u001b[0m\n\u001b[0;31m    1var = 20\u001b[0m\n\u001b[0m    ^\u001b[0m\n\u001b[0;31mSyntaxError\u001b[0m\u001b[0;31m:\u001b[0m invalid decimal literal\n"
          ]
        }
      ]
    },
    {
      "cell_type": "code",
      "source": [
        "if = 200                  # Do not use In-built functions as identifier"
      ],
      "metadata": {
        "colab": {
          "base_uri": "https://localhost:8080/",
          "height": 142
        },
        "id": "pQUxEjfnHlS2",
        "outputId": "2cca9b89-dc64-4254-82eb-ef5c080dcbd9"
      },
      "execution_count": null,
      "outputs": [
        {
          "output_type": "error",
          "ename": "SyntaxError",
          "evalue": "ignored",
          "traceback": [
            "\u001b[0;36m  File \u001b[0;32m\"<ipython-input-4-45eda47bd0e1>\"\u001b[0;36m, line \u001b[0;32m1\u001b[0m\n\u001b[0;31m    if = 200                  # Do not use In-built functions as identifier\u001b[0m\n\u001b[0m       ^\u001b[0m\n\u001b[0;31mSyntaxError\u001b[0m\u001b[0;31m:\u001b[0m invalid syntax\n"
          ]
        }
      ]
    },
    {
      "cell_type": "code",
      "source": [
        "var = 100; print(var)   # Case sensitive - 'var' and 'Var' are different\n",
        "Var = 200; print(Var)"
      ],
      "metadata": {
        "colab": {
          "base_uri": "https://localhost:8080/"
        },
        "id": "O43tcPfsHuzi",
        "outputId": "613c8c3b-73f8-44b6-cd31-e95a47362cc4"
      },
      "execution_count": null,
      "outputs": [
        {
          "output_type": "stream",
          "name": "stdout",
          "text": [
            "100\n",
            "200\n"
          ]
        }
      ]
    },
    {
      "cell_type": "code",
      "source": [
        "GRAVITY = 9.8             # What We define we will get the same\n",
        "print(GRAVITY)\n",
        "GRAVITY = 10\n",
        "print(GRAVITY)"
      ],
      "metadata": {
        "colab": {
          "base_uri": "https://localhost:8080/"
        },
        "id": "ucafZZUuH9vu",
        "outputId": "2d3adcbd-9df6-4f7e-de65-a2e480e4c158"
      },
      "execution_count": null,
      "outputs": [
        {
          "output_type": "stream",
          "name": "stdout",
          "text": [
            "9.8\n",
            "10\n"
          ]
        }
      ]
    },
    {
      "cell_type": "code",
      "source": [
        "import platform\n",
        "platform.python_version()"
      ],
      "metadata": {
        "colab": {
          "base_uri": "https://localhost:8080/",
          "height": 35
        },
        "id": "0jUVm-u3IdFp",
        "outputId": "32514d27-20a5-4fcf-ea80-1eadbe561089"
      },
      "execution_count": null,
      "outputs": [
        {
          "output_type": "execute_result",
          "data": {
            "text/plain": [
              "'3.10.12'"
            ],
            "application/vnd.google.colaboratory.intrinsic+json": {
              "type": "string"
            }
          },
          "metadata": {},
          "execution_count": 11
        }
      ]
    },
    {
      "cell_type": "code",
      "source": [
        "del platform\n",
        "platform.python_version()"
      ],
      "metadata": {
        "colab": {
          "base_uri": "https://localhost:8080/",
          "height": 194
        },
        "id": "7Tovi6-WIiuJ",
        "outputId": "bcfcedee-0061-4737-a23b-f247866af3f1"
      },
      "execution_count": null,
      "outputs": [
        {
          "output_type": "error",
          "ename": "NameError",
          "evalue": "ignored",
          "traceback": [
            "\u001b[0;31m---------------------------------------------------------------------------\u001b[0m",
            "\u001b[0;31mNameError\u001b[0m                                 Traceback (most recent call last)",
            "\u001b[0;32m<ipython-input-13-3049dc24e6ce>\u001b[0m in \u001b[0;36m<cell line: 2>\u001b[0;34m()\u001b[0m\n\u001b[1;32m      1\u001b[0m \u001b[0;32mdel\u001b[0m \u001b[0mplatform\u001b[0m\u001b[0;34m\u001b[0m\u001b[0;34m\u001b[0m\u001b[0m\n\u001b[0;32m----> 2\u001b[0;31m \u001b[0mplatform\u001b[0m\u001b[0;34m.\u001b[0m\u001b[0mpython_version\u001b[0m\u001b[0;34m(\u001b[0m\u001b[0;34m)\u001b[0m\u001b[0;34m\u001b[0m\u001b[0;34m\u001b[0m\u001b[0m\n\u001b[0m",
            "\u001b[0;31mNameError\u001b[0m: name 'platform' is not defined"
          ]
        }
      ]
    },
    {
      "cell_type": "code",
      "source": [
        "platform.python_version()"
      ],
      "metadata": {
        "colab": {
          "base_uri": "https://localhost:8080/",
          "height": 177
        },
        "id": "QvuQ6IEwImzC",
        "outputId": "ec06950a-a7d0-4948-bb7b-17e6cc96a21b"
      },
      "execution_count": null,
      "outputs": [
        {
          "output_type": "error",
          "ename": "NameError",
          "evalue": "ignored",
          "traceback": [
            "\u001b[0;31m---------------------------------------------------------------------------\u001b[0m",
            "\u001b[0;31mNameError\u001b[0m                                 Traceback (most recent call last)",
            "\u001b[0;32m<ipython-input-14-99c714a84d38>\u001b[0m in \u001b[0;36m<cell line: 1>\u001b[0;34m()\u001b[0m\n\u001b[0;32m----> 1\u001b[0;31m \u001b[0mplatform\u001b[0m\u001b[0;34m.\u001b[0m\u001b[0mpython_version\u001b[0m\u001b[0;34m(\u001b[0m\u001b[0;34m)\u001b[0m\u001b[0;34m\u001b[0m\u001b[0;34m\u001b[0m\u001b[0m\n\u001b[0m",
            "\u001b[0;31mNameError\u001b[0m: name 'platform' is not defined"
          ]
        }
      ]
    },
    {
      "cell_type": "code",
      "source": [
        "q = 20\n",
        "q"
      ],
      "metadata": {
        "colab": {
          "base_uri": "https://localhost:8080/"
        },
        "id": "VZ6RaWSDLnDh",
        "outputId": "dad859b9-9f2f-477c-c6d4-4c31acdfb281"
      },
      "execution_count": null,
      "outputs": [
        {
          "output_type": "execute_result",
          "data": {
            "text/plain": [
              "20"
            ]
          },
          "metadata": {},
          "execution_count": 22
        }
      ]
    },
    {
      "cell_type": "code",
      "source": [
        "a = 10\n",
        "a * 2+5+7+ (8 *7) +(6 / 90)"
      ],
      "metadata": {
        "colab": {
          "base_uri": "https://localhost:8080/"
        },
        "id": "8Dz6ZJ4WKl2j",
        "outputId": "b9cfd7b0-2f69-4b98-8f6e-65f65c1c6308"
      },
      "execution_count": null,
      "outputs": [
        {
          "output_type": "execute_result",
          "data": {
            "text/plain": [
              "88.06666666666666"
            ]
          },
          "metadata": {},
          "execution_count": 33
        }
      ]
    },
    {
      "cell_type": "code",
      "source": [
        "p = 7 + 8 + (8 *7) +(6 / 90)\n",
        "print(p)"
      ],
      "metadata": {
        "colab": {
          "base_uri": "https://localhost:8080/"
        },
        "id": "IuAC6XikMaR6",
        "outputId": "21f0d28f-7364-4797-a3f1-ede64fc7b9e8"
      },
      "execution_count": null,
      "outputs": [
        {
          "output_type": "stream",
          "name": "stdout",
          "text": [
            "71.06666666666666\n"
          ]
        }
      ]
    },
    {
      "cell_type": "markdown",
      "source": [
        "## Indentation in Python\n",
        "\n",
        "    Indentation is spaces/tab\n",
        "    Standard is to use 4 whitespaces for indentation\n",
        "\n",
        "EG: if num < 0: print(\"Number is negative\") # if block # The given space is called Indentation else: print(\"Number is positive\") # else block '''"
      ],
      "metadata": {
        "id": "2HN7C5tpLQM_"
      }
    },
    {
      "cell_type": "code",
      "source": [
        "num = -10\n",
        "\n",
        "if num < 0:\n",
        "   print(\"Number is negative\")  # if block\n",
        "else:\n",
        "   print(\"Number is positive\")  # else block"
      ],
      "metadata": {
        "colab": {
          "base_uri": "https://localhost:8080/"
        },
        "id": "X3Aa7jeILSqV",
        "outputId": "79178079-ab9f-4088-c33f-917e6c99897e"
      },
      "execution_count": null,
      "outputs": [
        {
          "output_type": "stream",
          "name": "stdout",
          "text": [
            "Number is negative\n"
          ]
        }
      ]
    },
    {
      "cell_type": "code",
      "source": [
        "if num < 0:\n",
        "  print(\"Number is negative\")  # if block\n",
        "else:\n",
        "  print(\"Number is positive\")  # else block"
      ],
      "metadata": {
        "colab": {
          "base_uri": "https://localhost:8080/"
        },
        "id": "Q7HDCvkfNDuw",
        "outputId": "b469e6eb-ec10-40d7-ca7b-e60c6b7026f7"
      },
      "execution_count": null,
      "outputs": [
        {
          "output_type": "stream",
          "name": "stdout",
          "text": [
            "Number is negative\n"
          ]
        }
      ]
    },
    {
      "cell_type": "code",
      "source": [
        "num = -10\n",
        "\n",
        "if num < 0:\n",
        "print(\"Number is negative\")  # if block\n",
        "else:\n",
        "print(\"Number is positive\")  # else block"
      ],
      "metadata": {
        "colab": {
          "base_uri": "https://localhost:8080/",
          "height": 142
        },
        "id": "tU8UPz2rLbJH",
        "outputId": "d4c8d149-e274-4354-f4ca-4f8997e90a7c"
      },
      "execution_count": null,
      "outputs": [
        {
          "output_type": "error",
          "ename": "IndentationError",
          "evalue": "ignored",
          "traceback": [
            "\u001b[0;36m  File \u001b[0;32m\"<ipython-input-19-e3b5a9dff64e>\"\u001b[0;36m, line \u001b[0;32m4\u001b[0m\n\u001b[0;31m    print(\"Number is negative\")  # if block\u001b[0m\n\u001b[0m    ^\u001b[0m\n\u001b[0;31mIndentationError\u001b[0m\u001b[0;31m:\u001b[0m expected an indented block after 'if' statement on line 3\n"
          ]
        }
      ]
    },
    {
      "cell_type": "code",
      "source": [
        "i = 100 ; print(i) ; type(i)"
      ],
      "metadata": {
        "colab": {
          "base_uri": "https://localhost:8080/"
        },
        "id": "oYesjweONhf7",
        "outputId": "f3bfc6e3-4cf8-4d04-f121-602d13b4e697"
      },
      "execution_count": null,
      "outputs": [
        {
          "output_type": "stream",
          "name": "stdout",
          "text": [
            "100\n"
          ]
        },
        {
          "output_type": "execute_result",
          "data": {
            "text/plain": [
              "int"
            ]
          },
          "metadata": {},
          "execution_count": 46
        }
      ]
    },
    {
      "cell_type": "code",
      "source": [
        "f = float(i) ; print(i) ; type(f)"
      ],
      "metadata": {
        "colab": {
          "base_uri": "https://localhost:8080/"
        },
        "id": "INaf7n4zNtVB",
        "outputId": "7346215a-e1e6-49f1-d22e-c5df37696a19"
      },
      "execution_count": null,
      "outputs": [
        {
          "output_type": "stream",
          "name": "stdout",
          "text": [
            "100\n"
          ]
        },
        {
          "output_type": "execute_result",
          "data": {
            "text/plain": [
              "float"
            ]
          },
          "metadata": {},
          "execution_count": 47
        }
      ]
    },
    {
      "cell_type": "code",
      "source": [
        "s = str(i)  ; print(s) ; type(s)"
      ],
      "metadata": {
        "colab": {
          "base_uri": "https://localhost:8080/"
        },
        "id": "aX5ktizpOUWe",
        "outputId": "acde914e-3d12-41d1-abab-47a72d42c72a"
      },
      "execution_count": null,
      "outputs": [
        {
          "output_type": "stream",
          "name": "stdout",
          "text": [
            "100\n"
          ]
        },
        {
          "output_type": "execute_result",
          "data": {
            "text/plain": [
              "str"
            ]
          },
          "metadata": {},
          "execution_count": 48
        }
      ]
    },
    {
      "cell_type": "markdown",
      "source": [
        "##Indexing"
      ],
      "metadata": {
        "id": "wLSxz1o8i5mO"
      }
    },
    {
      "cell_type": "code",
      "source": [
        "s1 = 'Good morning!' ;      print(s1)"
      ],
      "metadata": {
        "colab": {
          "base_uri": "https://localhost:8080/"
        },
        "id": "A1ghjjoLOk0n",
        "outputId": "d7532f60-a810-4521-e724-8c80a3b57f4a"
      },
      "execution_count": null,
      "outputs": [
        {
          "output_type": "stream",
          "name": "stdout",
          "text": [
            "Good morning!\n"
          ]
        }
      ]
    },
    {
      "cell_type": "code",
      "source": [
        "s1[0]"
      ],
      "metadata": {
        "colab": {
          "base_uri": "https://localhost:8080/",
          "height": 35
        },
        "id": "250LGZEcOq4C",
        "outputId": "c20b4c76-ade1-4f37-cb4c-a433c91e6c87"
      },
      "execution_count": null,
      "outputs": [
        {
          "output_type": "execute_result",
          "data": {
            "text/plain": [
              "'G'"
            ],
            "application/vnd.google.colaboratory.intrinsic+json": {
              "type": "string"
            }
          },
          "metadata": {},
          "execution_count": 50
        }
      ]
    },
    {
      "cell_type": "code",
      "source": [
        "s1[4]"
      ],
      "metadata": {
        "colab": {
          "base_uri": "https://localhost:8080/",
          "height": 35
        },
        "id": "ixdMwAiGOycN",
        "outputId": "1a57ec39-9a6c-46f5-813f-10812f54b53c"
      },
      "execution_count": null,
      "outputs": [
        {
          "output_type": "execute_result",
          "data": {
            "text/plain": [
              "' '"
            ],
            "application/vnd.google.colaboratory.intrinsic+json": {
              "type": "string"
            }
          },
          "metadata": {},
          "execution_count": 51
        }
      ]
    },
    {
      "cell_type": "code",
      "source": [
        "len(s1)"
      ],
      "metadata": {
        "colab": {
          "base_uri": "https://localhost:8080/"
        },
        "id": "waIR1HnwO6o3",
        "outputId": "186868c9-0d00-4a1a-f4db-3e85095f9817"
      },
      "execution_count": null,
      "outputs": [
        {
          "output_type": "execute_result",
          "data": {
            "text/plain": [
              "13"
            ]
          },
          "metadata": {},
          "execution_count": 54
        }
      ]
    },
    {
      "cell_type": "code",
      "source": [
        "s1[-1]"
      ],
      "metadata": {
        "colab": {
          "base_uri": "https://localhost:8080/",
          "height": 35
        },
        "id": "X_6_A7BFPGJp",
        "outputId": "16c7ef35-69bd-4e5a-ba4d-a51cb37dcc46"
      },
      "execution_count": null,
      "outputs": [
        {
          "output_type": "execute_result",
          "data": {
            "text/plain": [
              "'!'"
            ],
            "application/vnd.google.colaboratory.intrinsic+json": {
              "type": "string"
            }
          },
          "metadata": {},
          "execution_count": 55
        }
      ]
    },
    {
      "cell_type": "code",
      "source": [
        "s1[-13]"
      ],
      "metadata": {
        "colab": {
          "base_uri": "https://localhost:8080/",
          "height": 35
        },
        "id": "CzjuZ4SrPNrn",
        "outputId": "32991da1-ae52-4ea8-93a8-5765d9e8ed2e"
      },
      "execution_count": null,
      "outputs": [
        {
          "output_type": "execute_result",
          "data": {
            "text/plain": [
              "'G'"
            ],
            "application/vnd.google.colaboratory.intrinsic+json": {
              "type": "string"
            }
          },
          "metadata": {},
          "execution_count": 58
        }
      ]
    },
    {
      "cell_type": "code",
      "source": [
        "s1[14888]"
      ],
      "metadata": {
        "colab": {
          "base_uri": "https://localhost:8080/",
          "height": 177
        },
        "id": "dsYUEXpzPgX2",
        "outputId": "253aab33-3efe-4f11-d39f-5bf15b8e60b9"
      },
      "execution_count": null,
      "outputs": [
        {
          "output_type": "error",
          "ename": "IndexError",
          "evalue": "ignored",
          "traceback": [
            "\u001b[0;31m---------------------------------------------------------------------------\u001b[0m",
            "\u001b[0;31mIndexError\u001b[0m                                Traceback (most recent call last)",
            "\u001b[0;32m<ipython-input-60-97d25ffdf149>\u001b[0m in \u001b[0;36m<cell line: 1>\u001b[0;34m()\u001b[0m\n\u001b[0;32m----> 1\u001b[0;31m \u001b[0ms1\u001b[0m\u001b[0;34m[\u001b[0m\u001b[0;36m14888\u001b[0m\u001b[0;34m]\u001b[0m\u001b[0;34m\u001b[0m\u001b[0;34m\u001b[0m\u001b[0m\n\u001b[0m",
            "\u001b[0;31mIndexError\u001b[0m: string index out of range"
          ]
        }
      ]
    },
    {
      "cell_type": "code",
      "source": [
        "s1[-1*-6]"
      ],
      "metadata": {
        "colab": {
          "base_uri": "https://localhost:8080/",
          "height": 35
        },
        "id": "1aLdrFVBPnhy",
        "outputId": "f0633bbc-f237-4817-e970-e12420f44449"
      },
      "execution_count": null,
      "outputs": [
        {
          "output_type": "execute_result",
          "data": {
            "text/plain": [
              "'o'"
            ],
            "application/vnd.google.colaboratory.intrinsic+json": {
              "type": "string"
            }
          },
          "metadata": {},
          "execution_count": 61
        }
      ]
    },
    {
      "cell_type": "code",
      "source": [
        "name=['a','b','c','d','e']\n",
        "name"
      ],
      "metadata": {
        "colab": {
          "base_uri": "https://localhost:8080/"
        },
        "id": "VCIBF9T1P89q",
        "outputId": "98339395-f4ae-4567-9e46-4cbd578ce494"
      },
      "execution_count": null,
      "outputs": [
        {
          "output_type": "execute_result",
          "data": {
            "text/plain": [
              "['a', 'b', 'c', 'd', 'e']"
            ]
          },
          "metadata": {},
          "execution_count": 63
        }
      ]
    },
    {
      "cell_type": "code",
      "source": [
        "name=['a','b','c','d','e']\n",
        "age=[10,20,30,40,50]\n",
        "print(name); print(age)"
      ],
      "metadata": {
        "colab": {
          "base_uri": "https://localhost:8080/"
        },
        "id": "J_pgn9NJQMM-",
        "outputId": "5c5ed545-1e1c-40bb-da92-1af806fcdba6"
      },
      "execution_count": null,
      "outputs": [
        {
          "output_type": "stream",
          "name": "stdout",
          "text": [
            "['a', 'b', 'c', 'd', 'e']\n",
            "[10, 20, 30, 40, 50]\n"
          ]
        }
      ]
    },
    {
      "cell_type": "code",
      "source": [
        "print(\"name is .....\")"
      ],
      "metadata": {
        "colab": {
          "base_uri": "https://localhost:8080/"
        },
        "id": "ibpgmsFEQxZY",
        "outputId": "397678e3-da49-42b7-b736-9ded670bbbf6"
      },
      "execution_count": null,
      "outputs": [
        {
          "output_type": "stream",
          "name": "stdout",
          "text": [
            "name is .....\n"
          ]
        }
      ]
    },
    {
      "cell_type": "code",
      "source": [
        "name=['a','b','c','d','e']\n",
        "age=[10,20,30,40,50]\n",
        "print(f\"{name} is {age} years old\")\n",
        "print(f\"{name[0]} is {age[2]} years old\")"
      ],
      "metadata": {
        "colab": {
          "base_uri": "https://localhost:8080/"
        },
        "id": "8k0C2amfQg1O",
        "outputId": "29793396-ac7c-47cc-ff6a-5016275cead6"
      },
      "execution_count": null,
      "outputs": [
        {
          "output_type": "stream",
          "name": "stdout",
          "text": [
            "['a', 'b', 'c', 'd', 'e'] is [10, 20, 30, 40, 50] years old\n",
            "a is 30 years old\n"
          ]
        }
      ]
    },
    {
      "cell_type": "markdown",
      "source": [
        "## Slicing"
      ],
      "metadata": {
        "id": "elzRT_nyjcVT"
      }
    },
    {
      "cell_type": "code",
      "source": [
        "s1 = 'Good morning!' ;      print(s1)"
      ],
      "metadata": {
        "colab": {
          "base_uri": "https://localhost:8080/"
        },
        "id": "-YC_g5e-jeMI",
        "outputId": "2a294d31-13cc-4133-f291-4efd1806ee28"
      },
      "execution_count": null,
      "outputs": [
        {
          "output_type": "stream",
          "name": "stdout",
          "text": [
            "Good morning!\n"
          ]
        }
      ]
    },
    {
      "cell_type": "code",
      "source": [
        "s1[3:7:1]"
      ],
      "metadata": {
        "colab": {
          "base_uri": "https://localhost:8080/",
          "height": 35
        },
        "id": "pZ4YC7mEji10",
        "outputId": "2b295981-a76d-400e-ee16-a9159fdfded1"
      },
      "execution_count": null,
      "outputs": [
        {
          "output_type": "execute_result",
          "data": {
            "text/plain": [
              "'d mo'"
            ],
            "application/vnd.google.colaboratory.intrinsic+json": {
              "type": "string"
            }
          },
          "metadata": {},
          "execution_count": 2
        }
      ]
    },
    {
      "cell_type": "code",
      "source": [
        "s1[3:7:2]"
      ],
      "metadata": {
        "colab": {
          "base_uri": "https://localhost:8080/",
          "height": 35
        },
        "id": "8hUGGuryj0Gz",
        "outputId": "7790e60d-984e-4cbe-8eb4-55d7c14537d2"
      },
      "execution_count": null,
      "outputs": [
        {
          "output_type": "execute_result",
          "data": {
            "text/plain": [
              "'dm'"
            ],
            "application/vnd.google.colaboratory.intrinsic+json": {
              "type": "string"
            }
          },
          "metadata": {},
          "execution_count": 3
        }
      ]
    },
    {
      "cell_type": "code",
      "source": [
        "s1 = 'Good morning!' ;      print(s1)"
      ],
      "metadata": {
        "colab": {
          "base_uri": "https://localhost:8080/"
        },
        "id": "2ZlMRdXyj-nQ",
        "outputId": "d69f0a3a-5aea-4f42-a2c1-193973d005cc"
      },
      "execution_count": null,
      "outputs": [
        {
          "output_type": "stream",
          "name": "stdout",
          "text": [
            "Good morning!\n"
          ]
        }
      ]
    },
    {
      "cell_type": "code",
      "source": [
        "s1 = 'Good morning!' ;      print(s1)\n",
        "start = 3\n",
        "stop = 7\n",
        "step = 1\n",
        "s1[start:stop:step]"
      ],
      "metadata": {
        "colab": {
          "base_uri": "https://localhost:8080/",
          "height": 35
        },
        "id": "U2eVqC0ukAcE",
        "outputId": "f5dd40cf-9503-45c8-e26e-0cdf8a573550"
      },
      "execution_count": null,
      "outputs": [
        {
          "output_type": "execute_result",
          "data": {
            "text/plain": [
              "'d mo'"
            ],
            "application/vnd.google.colaboratory.intrinsic+json": {
              "type": "string"
            }
          },
          "metadata": {},
          "execution_count": 5
        }
      ]
    },
    {
      "cell_type": "code",
      "source": [
        "s1 = 'Good morning!' ;      print(s1)\n",
        "start = 3\n",
        "stop = 7\n",
        "step = 2\n",
        "s1[start:stop:step]"
      ],
      "metadata": {
        "colab": {
          "base_uri": "https://localhost:8080/",
          "height": 35
        },
        "id": "ZbEh1k9VkQpK",
        "outputId": "9706266f-6c12-4844-a02e-01901dbc743f"
      },
      "execution_count": null,
      "outputs": [
        {
          "output_type": "execute_result",
          "data": {
            "text/plain": [
              "'dm'"
            ],
            "application/vnd.google.colaboratory.intrinsic+json": {
              "type": "string"
            }
          },
          "metadata": {},
          "execution_count": 6
        }
      ]
    },
    {
      "cell_type": "code",
      "source": [
        "s1 = 'Good morning!' ;      print(s1)\n",
        "start = 3\n",
        "stop = 7\n",
        "step = 3\n",
        "s1[start:stop:step]"
      ],
      "metadata": {
        "colab": {
          "base_uri": "https://localhost:8080/",
          "height": 35
        },
        "id": "D-vQG2w6kXEX",
        "outputId": "f913cad6-9a0c-4ce5-e294-43c4bbc28dac"
      },
      "execution_count": null,
      "outputs": [
        {
          "output_type": "execute_result",
          "data": {
            "text/plain": [
              "'do'"
            ],
            "application/vnd.google.colaboratory.intrinsic+json": {
              "type": "string"
            }
          },
          "metadata": {},
          "execution_count": 8
        }
      ]
    },
    {
      "cell_type": "code",
      "source": [
        "s1 = 'Good morning!' ;      print(s1)\n",
        "start = 3\n",
        "stop = 3\n",
        "step = 7\n",
        "s1[start:stop:step]"
      ],
      "metadata": {
        "colab": {
          "base_uri": "https://localhost:8080/",
          "height": 35
        },
        "id": "93zkOm9mmIwN",
        "outputId": "5df601c7-e8c5-4580-b4f8-4f38dc3e1832"
      },
      "execution_count": null,
      "outputs": [
        {
          "output_type": "execute_result",
          "data": {
            "text/plain": [
              "''"
            ],
            "application/vnd.google.colaboratory.intrinsic+json": {
              "type": "string"
            }
          },
          "metadata": {},
          "execution_count": 23
        }
      ]
    },
    {
      "cell_type": "code",
      "source": [
        "s1 = 'Good morning!' ;      print(s1)\n",
        "start = 3\n",
        "stop = 10\n",
        "step = 4\n",
        "s1[start:stop:step]"
      ],
      "metadata": {
        "colab": {
          "base_uri": "https://localhost:8080/",
          "height": 53
        },
        "id": "TO1UN8MumQe3",
        "outputId": "c8ba682f-9a4f-4195-ff7f-821d0da03484"
      },
      "execution_count": null,
      "outputs": [
        {
          "output_type": "stream",
          "name": "stdout",
          "text": [
            "Good morning!\n"
          ]
        },
        {
          "output_type": "execute_result",
          "data": {
            "text/plain": [
              "'dr'"
            ],
            "application/vnd.google.colaboratory.intrinsic+json": {
              "type": "string"
            }
          },
          "metadata": {},
          "execution_count": 21
        }
      ]
    },
    {
      "cell_type": "code",
      "source": [
        "s1 = 'ABCDEFGHIJKL' ;      print(s1)\n",
        "start = 2\n",
        "stop = 8\n",
        "step = 1\n",
        "s1[start:stop:step]"
      ],
      "metadata": {
        "colab": {
          "base_uri": "https://localhost:8080/",
          "height": 53
        },
        "id": "eKuCo_SOm422",
        "outputId": "c9a22c23-ae83-40ca-a914-3ece0f1a481f"
      },
      "execution_count": null,
      "outputs": [
        {
          "output_type": "stream",
          "name": "stdout",
          "text": [
            "ABCDEFGHIJKL\n"
          ]
        },
        {
          "output_type": "execute_result",
          "data": {
            "text/plain": [
              "'CDEFGH'"
            ],
            "application/vnd.google.colaboratory.intrinsic+json": {
              "type": "string"
            }
          },
          "metadata": {},
          "execution_count": 29
        }
      ]
    },
    {
      "cell_type": "code",
      "source": [
        "s1 = 'ABCDEFGHIJKL' ;      print(s1)\n",
        "start = 2\n",
        "stop = 8\n",
        "step = 2\n",
        "s1[start:stop:step]"
      ],
      "metadata": {
        "colab": {
          "base_uri": "https://localhost:8080/",
          "height": 53
        },
        "id": "7ZUarGIAp8nA",
        "outputId": "d7c53832-ee4c-48fd-e766-c1df1ffd4809"
      },
      "execution_count": null,
      "outputs": [
        {
          "output_type": "stream",
          "name": "stdout",
          "text": [
            "ABCDEFGHIJKL\n"
          ]
        },
        {
          "output_type": "execute_result",
          "data": {
            "text/plain": [
              "'CEG'"
            ],
            "application/vnd.google.colaboratory.intrinsic+json": {
              "type": "string"
            }
          },
          "metadata": {},
          "execution_count": 31
        }
      ]
    },
    {
      "cell_type": "code",
      "source": [
        "s1 = 'ABCDEFGHIJKL' ;      print(s1)\n",
        "s1[3:7:1]"
      ],
      "metadata": {
        "colab": {
          "base_uri": "https://localhost:8080/",
          "height": 53
        },
        "id": "km07bNiQq-z3",
        "outputId": "c9f63210-ba16-4bbc-b9c1-d4e2dbab0b6d"
      },
      "execution_count": null,
      "outputs": [
        {
          "output_type": "stream",
          "name": "stdout",
          "text": [
            "ABCDEFGHIJKL\n"
          ]
        },
        {
          "output_type": "execute_result",
          "data": {
            "text/plain": [
              "'DEFG'"
            ],
            "application/vnd.google.colaboratory.intrinsic+json": {
              "type": "string"
            }
          },
          "metadata": {},
          "execution_count": 37
        }
      ]
    },
    {
      "cell_type": "code",
      "source": [
        "s1 = 'ABCDEFGHIJKL' ;      print(s1)\n",
        "s1[3:7] # By default, step = 1"
      ],
      "metadata": {
        "colab": {
          "base_uri": "https://localhost:8080/",
          "height": 53
        },
        "id": "z5IEeZmerBIM",
        "outputId": "18c13933-2647-4bb8-d861-e5b0258e1d2f"
      },
      "execution_count": null,
      "outputs": [
        {
          "output_type": "stream",
          "name": "stdout",
          "text": [
            "ABCDEFGHIJKL\n"
          ]
        },
        {
          "output_type": "execute_result",
          "data": {
            "text/plain": [
              "'DEFG'"
            ],
            "application/vnd.google.colaboratory.intrinsic+json": {
              "type": "string"
            }
          },
          "metadata": {},
          "execution_count": 36
        }
      ]
    },
    {
      "cell_type": "code",
      "source": [
        "s1 = 'ABCDEFGHIJKL' ;      print(s1)\n",
        "s1[0:7:1] # start = 0"
      ],
      "metadata": {
        "colab": {
          "base_uri": "https://localhost:8080/",
          "height": 53
        },
        "id": "4KmnCBpnsBiL",
        "outputId": "bce22d7c-b8c6-438a-a331-d2cf2eaa0e7b"
      },
      "execution_count": null,
      "outputs": [
        {
          "output_type": "stream",
          "name": "stdout",
          "text": [
            "ABCDEFGHIJKL\n"
          ]
        },
        {
          "output_type": "execute_result",
          "data": {
            "text/plain": [
              "'ABCDEFG'"
            ],
            "application/vnd.google.colaboratory.intrinsic+json": {
              "type": "string"
            }
          },
          "metadata": {},
          "execution_count": 38
        }
      ]
    },
    {
      "cell_type": "code",
      "source": [
        "s1 = 'ABCDEFGHIJKL' ;      print(s1)\n",
        "s1[:7:1] # start = 0"
      ],
      "metadata": {
        "colab": {
          "base_uri": "https://localhost:8080/",
          "height": 53
        },
        "id": "33c4wyFUsQ_6",
        "outputId": "1f85ee24-48a9-4e5a-efaf-80429290ec6e"
      },
      "execution_count": null,
      "outputs": [
        {
          "output_type": "stream",
          "name": "stdout",
          "text": [
            "ABCDEFGHIJKL\n"
          ]
        },
        {
          "output_type": "execute_result",
          "data": {
            "text/plain": [
              "'ABCDEFG'"
            ],
            "application/vnd.google.colaboratory.intrinsic+json": {
              "type": "string"
            }
          },
          "metadata": {},
          "execution_count": 40
        }
      ]
    },
    {
      "cell_type": "code",
      "source": [
        "s1 = 'ABCDEFGHIJKL' ;      print(s1)\n",
        "s1[:7:2]"
      ],
      "metadata": {
        "colab": {
          "base_uri": "https://localhost:8080/",
          "height": 53
        },
        "id": "jNqpIgyGsqn2",
        "outputId": "f08deafb-e149-4b2f-ebac-b2c2997549d1"
      },
      "execution_count": null,
      "outputs": [
        {
          "output_type": "stream",
          "name": "stdout",
          "text": [
            "ABCDEFGHIJKL\n"
          ]
        },
        {
          "output_type": "execute_result",
          "data": {
            "text/plain": [
              "'ACEG'"
            ],
            "application/vnd.google.colaboratory.intrinsic+json": {
              "type": "string"
            }
          },
          "metadata": {},
          "execution_count": 43
        }
      ]
    },
    {
      "cell_type": "code",
      "source": [
        "s1 = 'ABCDEFGHIJKL' ;      print(s1)\n",
        "s1[3::1]"
      ],
      "metadata": {
        "colab": {
          "base_uri": "https://localhost:8080/",
          "height": 53
        },
        "id": "4useJpbKstbo",
        "outputId": "bbc433e7-6a8d-428c-92f5-dbbfffab2eb9"
      },
      "execution_count": null,
      "outputs": [
        {
          "output_type": "stream",
          "name": "stdout",
          "text": [
            "ABCDEFGHIJKL\n"
          ]
        },
        {
          "output_type": "execute_result",
          "data": {
            "text/plain": [
              "'DEFGHIJKL'"
            ],
            "application/vnd.google.colaboratory.intrinsic+json": {
              "type": "string"
            }
          },
          "metadata": {},
          "execution_count": 44
        }
      ]
    },
    {
      "cell_type": "code",
      "source": [
        "s1 = 'ABCDEFGHIJKL' ;      print(s1)\n",
        "s1[::2]"
      ],
      "metadata": {
        "colab": {
          "base_uri": "https://localhost:8080/",
          "height": 53
        },
        "id": "fOrkVkjktLuS",
        "outputId": "43f0f051-244d-4e23-cac5-ee24a45fdef9"
      },
      "execution_count": null,
      "outputs": [
        {
          "output_type": "stream",
          "name": "stdout",
          "text": [
            "ABCDEFGHIJKL\n"
          ]
        },
        {
          "output_type": "execute_result",
          "data": {
            "text/plain": [
              "'ACEGIK'"
            ],
            "application/vnd.google.colaboratory.intrinsic+json": {
              "type": "string"
            }
          },
          "metadata": {},
          "execution_count": 45
        }
      ]
    },
    {
      "cell_type": "code",
      "source": [
        "s1 = 'ABCDEFGHIJKL' ;      print(s1)\n",
        "s1[::-1]"
      ],
      "metadata": {
        "colab": {
          "base_uri": "https://localhost:8080/",
          "height": 53
        },
        "id": "8aHJnpiHtVvS",
        "outputId": "2e97e599-12a4-4460-e87a-f7dfb5955c47"
      },
      "execution_count": null,
      "outputs": [
        {
          "output_type": "stream",
          "name": "stdout",
          "text": [
            "ABCDEFGHIJKL\n"
          ]
        },
        {
          "output_type": "execute_result",
          "data": {
            "text/plain": [
              "'LKJIHGFEDCBA'"
            ],
            "application/vnd.google.colaboratory.intrinsic+json": {
              "type": "string"
            }
          },
          "metadata": {},
          "execution_count": 46
        }
      ]
    },
    {
      "cell_type": "code",
      "source": [
        "s1 = 'ABCDEFGHIJKL' ;      print(s1)\n",
        "s1[6::-1]"
      ],
      "metadata": {
        "colab": {
          "base_uri": "https://localhost:8080/",
          "height": 53
        },
        "id": "v8KtDpDUtih0",
        "outputId": "43727257-578e-4f3d-d4a6-d3687a3894b2"
      },
      "execution_count": null,
      "outputs": [
        {
          "output_type": "stream",
          "name": "stdout",
          "text": [
            "ABCDEFGHIJKL\n"
          ]
        },
        {
          "output_type": "execute_result",
          "data": {
            "text/plain": [
              "'GFEDCBA'"
            ],
            "application/vnd.google.colaboratory.intrinsic+json": {
              "type": "string"
            }
          },
          "metadata": {},
          "execution_count": 47
        }
      ]
    },
    {
      "cell_type": "code",
      "source": [
        "s1 = 'ABCDEFGHIJKL' ;      print(s1)\n",
        "s1[6::-3]"
      ],
      "metadata": {
        "colab": {
          "base_uri": "https://localhost:8080/",
          "height": 53
        },
        "id": "4ICdCcc6t-Xp",
        "outputId": "8811fa1d-050f-4b44-d8ef-c2fcc2480a45"
      },
      "execution_count": null,
      "outputs": [
        {
          "output_type": "stream",
          "name": "stdout",
          "text": [
            "ABCDEFGHIJKL\n"
          ]
        },
        {
          "output_type": "execute_result",
          "data": {
            "text/plain": [
              "'GDA'"
            ],
            "application/vnd.google.colaboratory.intrinsic+json": {
              "type": "string"
            }
          },
          "metadata": {},
          "execution_count": 49
        }
      ]
    },
    {
      "cell_type": "code",
      "source": [
        "s1 = 'A B C D E F G H I J K L' ;      print(s1)\n",
        "s1[::-1]"
      ],
      "metadata": {
        "colab": {
          "base_uri": "https://localhost:8080/",
          "height": 53
        },
        "id": "z_9ftw81uU48",
        "outputId": "ef13cf38-3083-4669-d485-e0f8d5b44b10"
      },
      "execution_count": null,
      "outputs": [
        {
          "output_type": "stream",
          "name": "stdout",
          "text": [
            "A B C D E F G H I J K L\n"
          ]
        },
        {
          "output_type": "execute_result",
          "data": {
            "text/plain": [
              "'L K J I H G F E D C B A'"
            ],
            "application/vnd.google.colaboratory.intrinsic+json": {
              "type": "string"
            }
          },
          "metadata": {},
          "execution_count": 50
        }
      ]
    },
    {
      "cell_type": "code",
      "source": [
        "s1 = 'A B C D E F G H I J K L' ;      print(s1)\n",
        "s1[::-2]"
      ],
      "metadata": {
        "colab": {
          "base_uri": "https://localhost:8080/",
          "height": 53
        },
        "id": "9MbJurNQug0e",
        "outputId": "5ad34d42-3f18-445e-f131-ff5a368a2899"
      },
      "execution_count": null,
      "outputs": [
        {
          "output_type": "stream",
          "name": "stdout",
          "text": [
            "A B C D E F G H I J K L\n"
          ]
        },
        {
          "output_type": "execute_result",
          "data": {
            "text/plain": [
              "'LKJIHGFEDCBA'"
            ],
            "application/vnd.google.colaboratory.intrinsic+json": {
              "type": "string"
            }
          },
          "metadata": {},
          "execution_count": 51
        }
      ]
    },
    {
      "cell_type": "code",
      "source": [
        "s1 = 'A B C D E F G H I J K L' ;      print(s1)\n",
        "s1[::-3]"
      ],
      "metadata": {
        "colab": {
          "base_uri": "https://localhost:8080/",
          "height": 53
        },
        "id": "hRJRq7mOuuG1",
        "outputId": "7d0ff580-ab4a-4a2f-a4e0-69a7d068f316"
      },
      "execution_count": null,
      "outputs": [
        {
          "output_type": "stream",
          "name": "stdout",
          "text": [
            "A B C D E F G H I J K L\n"
          ]
        },
        {
          "output_type": "execute_result",
          "data": {
            "text/plain": [
              "'L I F C '"
            ],
            "application/vnd.google.colaboratory.intrinsic+json": {
              "type": "string"
            }
          },
          "metadata": {},
          "execution_count": 52
        }
      ]
    },
    {
      "cell_type": "markdown",
      "source": [
        "Derived datatypes: List, Tuple, Set, Dictionary"
      ],
      "metadata": {
        "id": "zioFV6JCvFJ3"
      }
    },
    {
      "cell_type": "markdown",
      "source": [
        "## Shopping example to explain the concepts of List, Tuple, and Set\n"
      ],
      "metadata": {
        "id": "WwaYl2_WvNAA"
      }
    },
    {
      "cell_type": "markdown",
      "source": [
        "## List"
      ],
      "metadata": {
        "id": "9Oq0md36x7oS"
      }
    },
    {
      "cell_type": "code",
      "source": [
        "shopping_list = [\"apples\", \"bananas\", \"milk\", \"eggs\"]\n",
        "print (shopping_list)\n",
        "type(shopping_list)"
      ],
      "metadata": {
        "id": "0Scc2w5LvWYV",
        "colab": {
          "base_uri": "https://localhost:8080/"
        },
        "outputId": "bc350843-57cc-48d9-b254-ca97b0667024"
      },
      "execution_count": null,
      "outputs": [
        {
          "output_type": "stream",
          "name": "stdout",
          "text": [
            "['apples', 'bananas', 'milk', 'eggs']\n"
          ]
        },
        {
          "output_type": "execute_result",
          "data": {
            "text/plain": [
              "list"
            ]
          },
          "metadata": {},
          "execution_count": 28
        }
      ]
    },
    {
      "cell_type": "code",
      "source": [
        "shopping_list.append(\"apples\")\n",
        "shopping_list"
      ],
      "metadata": {
        "colab": {
          "base_uri": "https://localhost:8080/"
        },
        "id": "fKwhuZ4zwm22",
        "outputId": "55fd9900-2fd4-4e98-b467-7f965c93d9c0"
      },
      "execution_count": null,
      "outputs": [
        {
          "output_type": "execute_result",
          "data": {
            "text/plain": [
              "['apples', 'bananas', 'milk', 'eggs', 'apples']"
            ]
          },
          "metadata": {},
          "execution_count": 29
        }
      ]
    },
    {
      "cell_type": "code",
      "source": [
        "shopping_list.append(\"mango\")\n",
        "shopping_list"
      ],
      "metadata": {
        "colab": {
          "base_uri": "https://localhost:8080/"
        },
        "id": "rce3aEJ2wx9c",
        "outputId": "eab994b3-4ad0-4973-bd77-4d5711a864a4"
      },
      "execution_count": null,
      "outputs": [
        {
          "output_type": "execute_result",
          "data": {
            "text/plain": [
              "['apples', 'bananas', 'milk', 'eggs', 'apples', 'mango']"
            ]
          },
          "metadata": {},
          "execution_count": 34
        }
      ]
    },
    {
      "cell_type": "code",
      "source": [
        "shopping_list.remove(\"apples\")\n",
        "shopping_list"
      ],
      "metadata": {
        "colab": {
          "base_uri": "https://localhost:8080/"
        },
        "id": "c77PQBCYw-YY",
        "outputId": "30959ac7-e164-41bd-cef8-f306f7b8f980"
      },
      "execution_count": null,
      "outputs": [
        {
          "output_type": "execute_result",
          "data": {
            "text/plain": [
              "['bananas', 'milk', 'eggs', 'apples', 'mango']"
            ]
          },
          "metadata": {},
          "execution_count": 35
        }
      ]
    },
    {
      "cell_type": "markdown",
      "source": [
        "##Tuple"
      ],
      "metadata": {
        "id": "ZrliJfUxxyU8"
      }
    },
    {
      "cell_type": "code",
      "source": [
        "shopping_tuple = (\"Mon\", \"Tue\", \"Wed\", \"Mon\")\n",
        "print(shopping_tuple)\n",
        "type(shopping_tuple)"
      ],
      "metadata": {
        "colab": {
          "base_uri": "https://localhost:8080/"
        },
        "id": "Q1VEkWpixzFY",
        "outputId": "7bfb0a22-2bbd-4c7f-b356-6b3f5d2e4a8f"
      },
      "execution_count": null,
      "outputs": [
        {
          "output_type": "stream",
          "name": "stdout",
          "text": [
            "('Mon', 'Tue', 'Wed', 'Mon')\n"
          ]
        },
        {
          "output_type": "execute_result",
          "data": {
            "text/plain": [
              "tuple"
            ]
          },
          "metadata": {},
          "execution_count": 1
        }
      ]
    },
    {
      "cell_type": "code",
      "source": [
        "shopping_tuple = \"Mon\", \"Tue\", \"Wed\", \"Mon\"    # With out \"()\" is a Tuple\n",
        "print(shopping_tuple)\n",
        "type(shopping_tuple)"
      ],
      "metadata": {
        "colab": {
          "base_uri": "https://localhost:8080/"
        },
        "id": "okRMvPCU1q-S",
        "outputId": "3f5a995f-dec9-4daf-ac5d-4f9f858fa38a"
      },
      "execution_count": null,
      "outputs": [
        {
          "output_type": "stream",
          "name": "stdout",
          "text": [
            "('Mon', 'Tue', 'Wed', 'Mon')\n"
          ]
        },
        {
          "output_type": "execute_result",
          "data": {
            "text/plain": [
              "tuple"
            ]
          },
          "metadata": {},
          "execution_count": 38
        }
      ]
    },
    {
      "cell_type": "code",
      "source": [
        "shopping_tuple.append(\"Fri\")\n",
        "shopping_tuple"
      ],
      "metadata": {
        "colab": {
          "base_uri": "https://localhost:8080/",
          "height": 196
        },
        "id": "NYkJ2XgJy06p",
        "outputId": "cfb3b845-f65a-4ed3-be1d-57f3dc63947a"
      },
      "execution_count": null,
      "outputs": [
        {
          "output_type": "error",
          "ename": "AttributeError",
          "evalue": "ignored",
          "traceback": [
            "\u001b[0;31m---------------------------------------------------------------------------\u001b[0m",
            "\u001b[0;31mAttributeError\u001b[0m                            Traceback (most recent call last)",
            "\u001b[0;32m<ipython-input-28-b0608ff8ee85>\u001b[0m in \u001b[0;36m<cell line: 1>\u001b[0;34m()\u001b[0m\n\u001b[0;32m----> 1\u001b[0;31m \u001b[0mshopping_tuple\u001b[0m\u001b[0;34m.\u001b[0m\u001b[0mappend\u001b[0m\u001b[0;34m(\u001b[0m\u001b[0;34m\"Fri\"\u001b[0m\u001b[0;34m)\u001b[0m\u001b[0;34m\u001b[0m\u001b[0;34m\u001b[0m\u001b[0m\n\u001b[0m\u001b[1;32m      2\u001b[0m \u001b[0mshopping_tuple\u001b[0m\u001b[0;34m\u001b[0m\u001b[0;34m\u001b[0m\u001b[0m\n",
            "\u001b[0;31mAttributeError\u001b[0m: 'tuple' object has no attribute 'append'"
          ]
        }
      ]
    },
    {
      "cell_type": "code",
      "source": [
        "shopping_tuple.remove(\"Mon\")\n",
        "shopping_tuple"
      ],
      "metadata": {
        "colab": {
          "base_uri": "https://localhost:8080/",
          "height": 196
        },
        "id": "fsz7R2l8y79p",
        "outputId": "87b3a128-3936-4d09-bdc8-cf43a76b423c"
      },
      "execution_count": null,
      "outputs": [
        {
          "output_type": "error",
          "ename": "AttributeError",
          "evalue": "ignored",
          "traceback": [
            "\u001b[0;31m---------------------------------------------------------------------------\u001b[0m",
            "\u001b[0;31mAttributeError\u001b[0m                            Traceback (most recent call last)",
            "\u001b[0;32m<ipython-input-11-715f900af324>\u001b[0m in \u001b[0;36m<cell line: 1>\u001b[0;34m()\u001b[0m\n\u001b[0;32m----> 1\u001b[0;31m \u001b[0mshopping_tuple\u001b[0m\u001b[0;34m.\u001b[0m\u001b[0mremove\u001b[0m\u001b[0;34m(\u001b[0m\u001b[0;34m\"Mon\"\u001b[0m\u001b[0;34m)\u001b[0m\u001b[0;34m\u001b[0m\u001b[0;34m\u001b[0m\u001b[0m\n\u001b[0m\u001b[1;32m      2\u001b[0m \u001b[0mshopping_tuple\u001b[0m\u001b[0;34m\u001b[0m\u001b[0;34m\u001b[0m\u001b[0m\n",
            "\u001b[0;31mAttributeError\u001b[0m: 'tuple' object has no attribute 'remove'"
          ]
        }
      ]
    },
    {
      "cell_type": "markdown",
      "source": [
        "## SET"
      ],
      "metadata": {
        "id": "UELlBfFszGFY"
      }
    },
    {
      "cell_type": "code",
      "source": [
        "shopping_set = {\"Toy1\", \"Toy2\", \"Toy3\", \"Toy4\", \"Toy5\"}\n",
        "print(shopping_set)\n",
        "type(shopping_set)"
      ],
      "metadata": {
        "colab": {
          "base_uri": "https://localhost:8080/"
        },
        "id": "eujMIl_izQeM",
        "outputId": "cb6b1a64-0de7-4b8f-84d7-79c73c2a9385"
      },
      "execution_count": null,
      "outputs": [
        {
          "output_type": "stream",
          "name": "stdout",
          "text": [
            "{'Toy2', 'Toy3', 'Toy1', 'Toy5', 'Toy4'}\n"
          ]
        },
        {
          "output_type": "execute_result",
          "data": {
            "text/plain": [
              "set"
            ]
          },
          "metadata": {},
          "execution_count": 47
        }
      ]
    },
    {
      "cell_type": "code",
      "source": [
        "shopping_set.append(\"Toy6\")\n",
        "shopping_set"
      ],
      "metadata": {
        "colab": {
          "base_uri": "https://localhost:8080/",
          "height": 196
        },
        "id": "AKy_6daozZHx",
        "outputId": "5cbc8480-93a7-424e-a768-11e1ba56f4dd"
      },
      "execution_count": null,
      "outputs": [
        {
          "output_type": "error",
          "ename": "AttributeError",
          "evalue": "ignored",
          "traceback": [
            "\u001b[0;31m---------------------------------------------------------------------------\u001b[0m",
            "\u001b[0;31mAttributeError\u001b[0m                            Traceback (most recent call last)",
            "\u001b[0;32m<ipython-input-43-238d9779d03b>\u001b[0m in \u001b[0;36m<cell line: 1>\u001b[0;34m()\u001b[0m\n\u001b[0;32m----> 1\u001b[0;31m \u001b[0mshopping_set\u001b[0m\u001b[0;34m.\u001b[0m\u001b[0mappend\u001b[0m\u001b[0;34m(\u001b[0m\u001b[0;34m\"Toy6\"\u001b[0m\u001b[0;34m)\u001b[0m\u001b[0;34m\u001b[0m\u001b[0;34m\u001b[0m\u001b[0m\n\u001b[0m\u001b[1;32m      2\u001b[0m \u001b[0mshopping_set\u001b[0m\u001b[0;34m\u001b[0m\u001b[0;34m\u001b[0m\u001b[0m\n",
            "\u001b[0;31mAttributeError\u001b[0m: 'set' object has no attribute 'append'"
          ]
        }
      ]
    },
    {
      "cell_type": "code",
      "source": [
        "shopping_set.remove(\"Toy1\")\n",
        "shopping_set"
      ],
      "metadata": {
        "colab": {
          "base_uri": "https://localhost:8080/"
        },
        "id": "7E_KooanzmZw",
        "outputId": "493f4438-4faf-4d1d-eddd-5acfb5f11b74"
      },
      "execution_count": null,
      "outputs": [
        {
          "output_type": "execute_result",
          "data": {
            "text/plain": [
              "{'Toy2', 'Toy3', 'Toy4', 'Toy5'}"
            ]
          },
          "metadata": {},
          "execution_count": 44
        }
      ]
    },
    {
      "cell_type": "code",
      "source": [
        "shopping_set = {\"Toy1\", \"Toy2\", \"Toy3\", \"Toy4\", \"Toy5\"}\n",
        "print(shopping_set)\n",
        "type(shopping_set)\n"
      ],
      "metadata": {
        "colab": {
          "base_uri": "https://localhost:8080/"
        },
        "id": "oYP7rjYd50Wr",
        "outputId": "ecbd6622-f5df-4185-a71e-1e1a5909782e"
      },
      "execution_count": null,
      "outputs": [
        {
          "output_type": "stream",
          "name": "stdout",
          "text": [
            "{'Toy2', 'Toy3', 'Toy1', 'Toy5', 'Toy4'}\n"
          ]
        },
        {
          "output_type": "execute_result",
          "data": {
            "text/plain": [
              "set"
            ]
          },
          "metadata": {},
          "execution_count": 57
        }
      ]
    },
    {
      "cell_type": "markdown",
      "source": [
        "#Typecasting"
      ],
      "metadata": {
        "id": "IwYU1ZvQwE69"
      }
    },
    {
      "cell_type": "code",
      "source": [
        "shopping_tuple = (\"Mon\", \"Tue\", \"Wed\", \"Mon\")\n",
        "print(shopping_tuple)\n",
        "print(type(shopping_tuple))\n",
        "\n",
        "i = list(shopping_tuple)\n",
        "i.append(\"fri\")\n",
        "print(i)\n",
        "print(type(i))\n",
        "\n",
        "j = tuple(i)\n",
        "print(j)\n",
        "print(type(j))\n"
      ],
      "metadata": {
        "colab": {
          "base_uri": "https://localhost:8080/"
        },
        "id": "_sUqyq0IwDVW",
        "outputId": "14e320f9-e93a-4fe3-fd71-9b6b9997f1e1"
      },
      "execution_count": null,
      "outputs": [
        {
          "output_type": "stream",
          "name": "stdout",
          "text": [
            "('Mon', 'Tue', 'Wed', 'Mon')\n",
            "<class 'tuple'>\n",
            "['Mon', 'Tue', 'Wed', 'Mon', 'fri']\n",
            "<class 'list'>\n",
            "('Mon', 'Tue', 'Wed', 'Mon', 'fri')\n",
            "<class 'tuple'>\n"
          ]
        }
      ]
    },
    {
      "cell_type": "markdown",
      "source": [
        "##Things about Tuple\n",
        "\n",
        "    Tuple unpacking\n",
        "    Tuple packing\n"
      ],
      "metadata": {
        "id": "fxwI5H994R5r"
      }
    },
    {
      "cell_type": "code",
      "source": [
        "t = 10, 20, 30 ; print(t); print(type(t))"
      ],
      "metadata": {
        "colab": {
          "base_uri": "https://localhost:8080/"
        },
        "id": "W250EprH4Pwe",
        "outputId": "e12295e0-31c5-43a7-c96c-6b9b37c72bb6"
      },
      "execution_count": null,
      "outputs": [
        {
          "output_type": "stream",
          "name": "stdout",
          "text": [
            "(10, 20, 30)\n",
            "<class 'tuple'>\n"
          ]
        }
      ]
    },
    {
      "cell_type": "code",
      "source": [
        "x, y, z = t                    # Tuple unpacking\n",
        "print(x); print(y); print(z) ; print(type(x))"
      ],
      "metadata": {
        "colab": {
          "base_uri": "https://localhost:8080/"
        },
        "id": "WsFTbgOs4dcZ",
        "outputId": "35e43682-304f-484c-f73c-eee17a52ac29"
      },
      "execution_count": null,
      "outputs": [
        {
          "output_type": "stream",
          "name": "stdout",
          "text": [
            "10\n",
            "20\n",
            "30\n",
            "<class 'int'>\n"
          ]
        }
      ]
    },
    {
      "cell_type": "code",
      "source": [
        "a = 100\n",
        "b = 200\n",
        "c = 300\n",
        "print(a); print(b); print(c); type(c)"
      ],
      "metadata": {
        "colab": {
          "base_uri": "https://localhost:8080/"
        },
        "id": "1QRHqPeC5WVo",
        "outputId": "29c232e5-e6ef-4ebb-fcab-f1444c8c03ce"
      },
      "execution_count": null,
      "outputs": [
        {
          "output_type": "stream",
          "name": "stdout",
          "text": [
            "100\n",
            "200\n",
            "300\n"
          ]
        },
        {
          "output_type": "execute_result",
          "data": {
            "text/plain": [
              "int"
            ]
          },
          "metadata": {},
          "execution_count": 20
        }
      ]
    },
    {
      "cell_type": "code",
      "source": [
        " t = a,b,c\n",
        " print(t)\n",
        " type(t)"
      ],
      "metadata": {
        "colab": {
          "base_uri": "https://localhost:8080/"
        },
        "id": "FvnaY3Km5m4M",
        "outputId": "1f14107a-9c4c-43d8-fb28-6097b1e309c1"
      },
      "execution_count": null,
      "outputs": [
        {
          "output_type": "stream",
          "name": "stdout",
          "text": [
            "(100, 200, 300)\n"
          ]
        },
        {
          "output_type": "execute_result",
          "data": {
            "text/plain": [
              "tuple"
            ]
          },
          "metadata": {},
          "execution_count": 19
        }
      ]
    },
    {
      "cell_type": "code",
      "source": [
        "s = \"Hello World\"; print(s); type(s)"
      ],
      "metadata": {
        "colab": {
          "base_uri": "https://localhost:8080/"
        },
        "id": "8i4E7rZ45-7t",
        "outputId": "2e7113e8-0bb1-4c29-afeb-31d5f71841d6"
      },
      "execution_count": null,
      "outputs": [
        {
          "output_type": "stream",
          "name": "stdout",
          "text": [
            "Hello World\n"
          ]
        },
        {
          "output_type": "execute_result",
          "data": {
            "text/plain": [
              "str"
            ]
          },
          "metadata": {},
          "execution_count": 22
        }
      ]
    },
    {
      "cell_type": "code",
      "source": [
        "x = s[2], s[3]; print(x); type(x)"
      ],
      "metadata": {
        "colab": {
          "base_uri": "https://localhost:8080/"
        },
        "id": "9Q_j_42n6KYo",
        "outputId": "a979f357-3a0f-46ad-fb7d-b1767e02f7fd"
      },
      "execution_count": null,
      "outputs": [
        {
          "output_type": "stream",
          "name": "stdout",
          "text": [
            "('l', 'l')\n"
          ]
        },
        {
          "output_type": "execute_result",
          "data": {
            "text/plain": [
              "tuple"
            ]
          },
          "metadata": {},
          "execution_count": 26
        }
      ]
    },
    {
      "cell_type": "markdown",
      "source": [
        "#Dictionary\n",
        "\n",
        "    Comma separated key-value pairs enclosed within {}\n",
        "    {key1:value1, key2:value2, .....}\n",
        "    Keys should be unique and values can be duplicate\n"
      ],
      "metadata": {
        "id": "Cb1zvGKbBbIT"
      }
    },
    {
      "cell_type": "code",
      "source": [
        "d = {'name': 1234}\n",
        "print(d); type(d)"
      ],
      "metadata": {
        "colab": {
          "base_uri": "https://localhost:8080/"
        },
        "id": "J7bqlajsBdcn",
        "outputId": "dafde64f-a8fd-453b-e3cf-f2152c703d78"
      },
      "execution_count": null,
      "outputs": [
        {
          "output_type": "stream",
          "name": "stdout",
          "text": [
            "{'name': 1234}\n"
          ]
        },
        {
          "output_type": "execute_result",
          "data": {
            "text/plain": [
              "dict"
            ]
          },
          "metadata": {},
          "execution_count": 57
        }
      ]
    },
    {
      "cell_type": "code",
      "source": [
        "d = {'name': [1234, 4321]}\n",
        "print(d)"
      ],
      "metadata": {
        "colab": {
          "base_uri": "https://localhost:8080/"
        },
        "id": "vcSbdNvcCAYn",
        "outputId": "05d4fe23-040a-4691-fab4-cb88dff7fcb9"
      },
      "execution_count": null,
      "outputs": [
        {
          "output_type": "stream",
          "name": "stdout",
          "text": [
            "{'name': [1234, 4321]}\n"
          ]
        }
      ]
    },
    {
      "cell_type": "code",
      "source": [
        "d = {[name1, name2]: [1234]}\n",
        "print(d)"
      ],
      "metadata": {
        "colab": {
          "base_uri": "https://localhost:8080/",
          "height": 196
        },
        "id": "TsTzPjpICPVp",
        "outputId": "89b6170f-d7a8-4f52-a076-a2c8ccc87c7c"
      },
      "execution_count": null,
      "outputs": [
        {
          "output_type": "error",
          "ename": "NameError",
          "evalue": "ignored",
          "traceback": [
            "\u001b[0;31m---------------------------------------------------------------------------\u001b[0m",
            "\u001b[0;31mNameError\u001b[0m                                 Traceback (most recent call last)",
            "\u001b[0;32m<ipython-input-56-9eb8a8cfca30>\u001b[0m in \u001b[0;36m<cell line: 1>\u001b[0;34m()\u001b[0m\n\u001b[0;32m----> 1\u001b[0;31m \u001b[0md\u001b[0m \u001b[0;34m=\u001b[0m \u001b[0;34m{\u001b[0m\u001b[0;34m[\u001b[0m\u001b[0mname1\u001b[0m\u001b[0;34m,\u001b[0m \u001b[0mname2\u001b[0m\u001b[0;34m]\u001b[0m\u001b[0;34m:\u001b[0m \u001b[0;34m[\u001b[0m\u001b[0;36m1234\u001b[0m\u001b[0;34m]\u001b[0m\u001b[0;34m}\u001b[0m\u001b[0;34m\u001b[0m\u001b[0;34m\u001b[0m\u001b[0m\n\u001b[0m\u001b[1;32m      2\u001b[0m \u001b[0mprint\u001b[0m\u001b[0;34m(\u001b[0m\u001b[0md\u001b[0m\u001b[0;34m)\u001b[0m\u001b[0;34m\u001b[0m\u001b[0;34m\u001b[0m\u001b[0m\n",
            "\u001b[0;31mNameError\u001b[0m: name 'name1' is not defined"
          ]
        }
      ]
    },
    {
      "cell_type": "code",
      "source": [
        " \"\"\"indexing s = \"hello\"\n",
        "s[0] \"\"\"\n",
        "\n",
        "d = {'roll': 101, 'name': 'John', 'percent': 87.5}; print(type(d)) ; print(d)\n",
        "\n",
        "# *NOTE  # d[0]  : Indexing is not possible. But Calling key value is possible\n",
        "\n",
        "print (d['roll']) # Call the Key Element to see the value\n",
        "print (d['name']) # Call the Key Element to see the value\n",
        "\n",
        "print()\n"
      ],
      "metadata": {
        "colab": {
          "base_uri": "https://localhost:8080/"
        },
        "id": "rTU37oKSC_IB",
        "outputId": "c6711980-dbbc-4213-9fa0-0fc2ae91da95"
      },
      "execution_count": null,
      "outputs": [
        {
          "output_type": "stream",
          "name": "stdout",
          "text": [
            "<class 'dict'>\n",
            "{'roll': 101, 'name': 'John', 'percent': 87.5}\n",
            "101\n",
            "John\n",
            "\n"
          ]
        }
      ]
    },
    {
      "cell_type": "code",
      "source": [
        "# Real tim example\n",
        "mobnu1 = {'Ram':[875, 770, 815]} ; print(mobnu1)                     # Single Key & Values as list\n",
        "smobnum = {'Ram':{'ram':875, 'raju':770, 'jay':815}}; print(smobnum) # Single Key & Values as Set\n",
        "\n",
        "print (smobnum ['Ram'])\n",
        "\n",
        "raju = smobnum['Ram']['raju']\n",
        "raju\n"
      ],
      "metadata": {
        "colab": {
          "base_uri": "https://localhost:8080/"
        },
        "id": "PvQN2WT6E0GP",
        "outputId": "4ac817a9-4451-4306-b961-eeb50bb2e6ec"
      },
      "execution_count": null,
      "outputs": [
        {
          "output_type": "stream",
          "name": "stdout",
          "text": [
            "{'Ram': [875, 770, 815]}\n",
            "{'Ram': {'ram': 875, 'raju': 770, 'jay': 815}}\n",
            "{'ram': 875, 'raju': 770, 'jay': 815}\n"
          ]
        },
        {
          "output_type": "execute_result",
          "data": {
            "text/plain": [
              "770"
            ]
          },
          "metadata": {},
          "execution_count": 88
        }
      ]
    },
    {
      "cell_type": "code",
      "source": [
        "marks = {'Ram':(87.5, 77.0, 81.5)} ; print(mark2)   # Single Key & Values as Tupple\n",
        "subjects = {'Ram':{'ma':87.5, 'en':77.0, 'sc':81.5}}; print(subjects)\n",
        "\n",
        "su = subjects['Ram']['en'],subjects['Ram']['ma'],subjects['Ram']['sc']; su"
      ],
      "metadata": {
        "colab": {
          "base_uri": "https://localhost:8080/"
        },
        "id": "hlYSMPo5J1Oy",
        "outputId": "9fa62a6b-5b1d-4333-812e-c0b1e3cb39dd"
      },
      "execution_count": null,
      "outputs": [
        {
          "output_type": "stream",
          "name": "stdout",
          "text": [
            "{'Ram': (87.5, 77.0, 81.5)}\n",
            "{'Ram': {'ma': 87.5, 'en': 77.0, 'sc': 81.5}}\n"
          ]
        },
        {
          "output_type": "execute_result",
          "data": {
            "text/plain": [
              "(77.0, 87.5, 81.5)"
            ]
          },
          "metadata": {},
          "execution_count": 104
        }
      ]
    },
    {
      "cell_type": "code",
      "source": [
        "d = {'roll': 101, 'name': 'John', 'percent': 87.5}; print(d)\n",
        "\n",
        "# *NOTE  # d[0]  : Indexing is not possible. But Calling key value is possible\n",
        "\n",
        "print (d['roll']) # Call the Key Element to see the value\n",
        "print (d['name']) # Call the Key Element to see the value\n",
        "\n",
        "# Real tim example\n",
        "mark1 = {'Ram':[87.5, 77.0, 81.5], 'Jay':[91.0, 85.5, 82.0]} ; print(mark1)   # Single Key & Values as list\n",
        "mark2 = {'Ram':(87.5, 77.0, 81.5), 'Jay':(91.0, 85.5, 82.0)} ; print(mark2)   # Single Key & Values as Tupple\n",
        "mark3 = {'Ram':{'sub1':87.5, 'sub2':77.0, 'sub3':81.5}, 'Jay':{'sub1':91.0, 'sub2':85.5, 'sub3':82.0}} ; print(mark3) # Single Key & Values as Set\n",
        "\n",
        "print(mark3['Jay']) # Call the Key Element\n",
        "print(mark3['Jay']['sub2'],mark3['Ram']['sub2']) # Call the Value Element   Similar to inner indexing\n"
      ],
      "metadata": {
        "colab": {
          "base_uri": "https://localhost:8080/"
        },
        "id": "e0j3JLZPMZbD",
        "outputId": "47c06480-9486-4b2d-c7ce-23403c1c05f1"
      },
      "execution_count": null,
      "outputs": [
        {
          "output_type": "stream",
          "name": "stdout",
          "text": [
            "{'roll': 101, 'name': 'John', 'percent': 87.5}\n",
            "101\n",
            "John\n",
            "{'Ram': [87.5, 77.0, 81.5], 'Jay': [91.0, 85.5, 82.0]}\n",
            "{'Ram': (87.5, 77.0, 81.5), 'Jay': (91.0, 85.5, 82.0)}\n",
            "{'Ram': {'sub1': 87.5, 'sub2': 77.0, 'sub3': 81.5}, 'Jay': {'sub1': 91.0, 'sub2': 85.5, 'sub3': 82.0}}\n",
            "{'sub1': 91.0, 'sub2': 85.5, 'sub3': 82.0}\n",
            "85.5 77.0\n"
          ]
        }
      ]
    },
    {
      "cell_type": "code",
      "source": [],
      "metadata": {
        "id": "7daMMkkDK3z_"
      },
      "execution_count": null,
      "outputs": []
    },
    {
      "cell_type": "markdown",
      "source": [
        "# Logical Operator - (and,or,not)\n",
        "\n",
        "Logical Operators\n",
        "\n",
        "    and, or, not\n",
        "\n",
        "AND\n",
        "\n",
        "    True and True => True\n",
        "    True and False => False\n",
        "    False and True => False\n",
        "    False and False => False\n",
        "\n",
        "For intiger operation of 'and'\n",
        "\n",
        "    If the first operand is True, the output is the second operand\n",
        "    If the first operand is False, the output is the first operand\n",
        "    It will not check the second operand\n",
        "\n",
        "OR\n",
        "\n",
        "    True or True => True\n",
        "    True or False => True\n",
        "    False or True => True\n",
        "    False or False => False\n",
        "\n",
        "For intiger operation of 'and'\n",
        "\n",
        "    If the first operand if True, the output is the first operand\n",
        "    If the first operand if False, the output is the second operand\n",
        "\n",
        "NOT Operaction\n",
        "\n",
        "    Not True is False\n",
        "    Not False is True\n",
        "\n",
        "IN GENRAL\n",
        "\n",
        "    0 is False\n",
        "    1 is True\n",
        "    0.0 is False\n",
        "    '' Empty Sring is False\n",
        "    None is False\n",
        "    [] Empty List is False\n",
        "    () Empty Tuple is False\n",
        "    {} Empty Dictonary is False\n"
      ],
      "metadata": {
        "id": "2Pkaj3yO7mmF"
      }
    },
    {
      "cell_type": "code",
      "source": [
        "\"\"\"AND\"\"\"\n",
        "\n",
        "A1 = True and True; print(A1)    # AND Operatcion\n",
        "A2 = True and False; print(A2)\n",
        "\n",
        "\"\"\"OR\"\"\"\n",
        "O1 = True or True ; print(O1)    # OR Operatcion\n",
        "O2 = False or False; print(O2)"
      ],
      "metadata": {
        "colab": {
          "base_uri": "https://localhost:8080/"
        },
        "id": "PnZ43snc8JaQ",
        "outputId": "4f0d08f2-4a4c-4081-96a8-14ad2da4e076"
      },
      "execution_count": null,
      "outputs": [
        {
          "output_type": "stream",
          "name": "stdout",
          "text": [
            "True\n",
            "False\n",
            "True\n",
            "False\n"
          ]
        }
      ]
    },
    {
      "cell_type": "code",
      "source": [
        "# NOT Operaction\n",
        "not True"
      ],
      "metadata": {
        "colab": {
          "base_uri": "https://localhost:8080/"
        },
        "id": "FughIz-j8TIh",
        "outputId": "e7144877-cfb7-4077-cf2a-c321daadc250"
      },
      "execution_count": null,
      "outputs": [
        {
          "output_type": "execute_result",
          "data": {
            "text/plain": [
              "False"
            ]
          },
          "metadata": {},
          "execution_count": 31
        }
      ]
    },
    {
      "cell_type": "code",
      "source": [
        "el = []; print(el)  # Empty list => [] => False\n",
        "et = (); print(et)  # Empty tuple => () => False\n",
        "ed = {}; print(ed)  # Empty dict => {} => False"
      ],
      "metadata": {
        "colab": {
          "base_uri": "https://localhost:8080/"
        },
        "id": "yFVD9mkr8amU",
        "outputId": "1076c74b-afcf-40ae-bf8c-666c0eb1d0ad"
      },
      "execution_count": null,
      "outputs": [
        {
          "output_type": "stream",
          "name": "stdout",
          "text": [
            "[]\n",
            "()\n",
            "{}\n"
          ]
        }
      ]
    },
    {
      "cell_type": "markdown",
      "source": [
        "#### **Bitwise operator** - Operates on bits (0 and 1)\n",
        "Can be used with binary or integers directly\n",
        "\n",
        "* & - bitwise and\n",
        "* | - bitwise or\n",
        "* ^ - bitwise xor\n",
        "* ~ - bitwise not   # ~x = -(x+1)\n",
        "* << - bitwise left shift,,, >> - bitwise right shift  \n",
        "\n",
        "**&** Bitwise and\n",
        "1. 1 & 1 => 1\n",
        "2. 1 & 0 => 0\n",
        "3. 0 & 1 => 0\n",
        "4. 0 & 0 => 0\n",
        "\n",
        "**|** Bitwise or\n",
        "1. 1 | 1 => 1\n",
        "2. 1 | 0 => 1\n",
        "3. 0 | 1 => 1\n",
        "4. 0 | 0 => 0\n",
        "\n",
        "**^** Bitwise xor\n",
        "1. 1 ^ 1 => 0\n",
        "2. 1 ^ 0 => 1\n",
        "3. 0 ^ 1 => 1\n",
        "4. 0 ^ 0 => 0\n",
        "\n",
        "**~** Bitwise not   # ~x = -(x+1)\n",
        "\n",
        "**<<** Bitwise left shift -->  shifts the bits of 'a' left side 'b' times and adds 'b' 0s on the right side\n",
        "\n",
        "**>>** Bitwise right shift --> shifts the bits of 'a' right side 'b' times  and remove 'b' values on the right side"
      ],
      "metadata": {
        "id": "FOocOhT786yp"
      }
    },
    {
      "cell_type": "code",
      "source": [
        "## Bitwise and Operation   SYMBOL = &\n",
        "\"\"\"Performing bitwise AND:\n",
        "   1 0 1 1   (b1)\n",
        " & 1 0 1 0   (b2)\n",
        " -----------\n",
        "   1 0 1 0   (result)\"\"\"\n",
        "\n",
        "\n",
        "a1 = 0b1011     # 1011 & 1010 =  1010  --> 10\n",
        "a2 = 0b1010\n",
        "a= a1 & a2 ; print(a); print(bin(a))  # To print equalent Binary output also"
      ],
      "metadata": {
        "colab": {
          "base_uri": "https://localhost:8080/"
        },
        "id": "PMbbJAqv88w1",
        "outputId": "b98904e4-f54b-4b8d-ff07-69760b40eed4"
      },
      "execution_count": null,
      "outputs": [
        {
          "output_type": "stream",
          "name": "stdout",
          "text": [
            "10\n",
            "0b1010\n"
          ]
        }
      ]
    },
    {
      "cell_type": "code",
      "source": [
        "## Bitwise OR Operation   SYMBOL = |\n",
        "\"\"\"Performing bitwise OR:\n",
        "   1 0 1 1   (o1)\n",
        " | 1 0 1 0   (o2)\n",
        " -----------\n",
        "   1 0 1 1   (result)\"\"\"\n",
        "\n",
        "\n",
        "o1 = 0b1011     # 1011 | 1010 =  1010  --> 10\n",
        "o2 = 0b1010\n",
        "o = o1 | o2 ; print(o); print(bin(o))  # To print equalent Binary output also"
      ],
      "metadata": {
        "colab": {
          "base_uri": "https://localhost:8080/"
        },
        "id": "jC4YbUn69_V-",
        "outputId": "42fc29fa-78c1-4f66-9268-b383e236cc1a"
      },
      "execution_count": null,
      "outputs": [
        {
          "output_type": "stream",
          "name": "stdout",
          "text": [
            "11\n",
            "0b1011\n"
          ]
        }
      ]
    },
    {
      "cell_type": "code",
      "source": [
        "## Bitwise xor        SYMBOL = ^\n",
        "\n",
        "\"\"\"Performing bitwise XOR:\n",
        "   1 0 1 1   (x1)\n",
        " ^ 1 0 1 0   (x2)\n",
        " -----------\n",
        "   0 0 0 1   (result)\"\"\"\n",
        "\n",
        "x1 = 0b1011     # 1011 ^ 1010 =  1010  --> 10\n",
        "x2 = 0b1010\n",
        "x = x1 ^ x2 ; print(x); print(bin(x))"
      ],
      "metadata": {
        "colab": {
          "base_uri": "https://localhost:8080/"
        },
        "id": "ytlUKbFk-d3P",
        "outputId": "ac18444c-2895-4c21-c5ec-6f80ecd519e1"
      },
      "execution_count": null,
      "outputs": [
        {
          "output_type": "stream",
          "name": "stdout",
          "text": [
            "1\n",
            "0b1\n"
          ]
        }
      ]
    },
    {
      "cell_type": "code",
      "source": [
        "####  Let Reviste\n",
        "\n",
        "\"\"\"Attantation needed please watch clearly\"\"\"\n",
        "\n",
        "## Bitwise not    Formula is  ~x = -(x+1)\n",
        "a = ~12; print (a)                            # To easy understanding using intigers\n",
        "x = ~0b1010;       # Same using with bin\n"
      ],
      "metadata": {
        "colab": {
          "base_uri": "https://localhost:8080/"
        },
        "id": "nRiHq--V-zq1",
        "outputId": "88793b37-f4f5-4676-bbf9-126b78a5db59"
      },
      "execution_count": null,
      "outputs": [
        {
          "output_type": "stream",
          "name": "stdout",
          "text": [
            "-13\n",
            "-0b1011\n",
            "-11\n"
          ]
        }
      ]
    },
    {
      "cell_type": "markdown",
      "source": [
        "#### **Mutable vs Immutable**"
      ],
      "metadata": {
        "id": "hM04UtjAl32j"
      }
    },
    {
      "cell_type": "code",
      "source": [
        "l = [10, 15, 'ram', 10] ; print(l);  print(id(l))    # Memory location\n",
        "l[1] = 50 ;  print(l) ; print(id(l))                 # ADDRESS ID WILL NOT CHANGED ONLY ONE VALUE / VARIABLE GET CHANGED"
      ],
      "metadata": {
        "colab": {
          "base_uri": "https://localhost:8080/"
        },
        "id": "TM451kq9mAGG",
        "outputId": "910ffa4c-bcfa-49bd-8582-8e55d95e5d8f"
      },
      "execution_count": null,
      "outputs": [
        {
          "output_type": "stream",
          "name": "stdout",
          "text": [
            "[10, 15, 'ram', 10]\n",
            "138624710513216\n",
            "[10, 50, 'ram', 10]\n",
            "138624710513216\n"
          ]
        }
      ]
    },
    {
      "cell_type": "code",
      "source": [
        "l = [1500, 1000, 'ram', 120000] ; print(l);  print(id(l))    # Memory location\n",
        "l[1] = 500 ;  print(l) ; print(id(l))                        # ADDRESS ID WILL NOT CHANGED ONLY ONE VALUE / VARIABLE GET CHANGED"
      ],
      "metadata": {
        "colab": {
          "base_uri": "https://localhost:8080/"
        },
        "id": "9UrWBZLonA56",
        "outputId": "dbbc9aaf-a459-4a40-dbef-a65ad8f4de23"
      },
      "execution_count": null,
      "outputs": [
        {
          "output_type": "stream",
          "name": "stdout",
          "text": [
            "[1500, 1000, 'ram', 120000]\n",
            "138624710513280\n",
            "[1500, 500, 'ram', 120000]\n",
            "138624710513280\n"
          ]
        }
      ]
    },
    {
      "cell_type": "code",
      "source": [
        "d = {'roll': 101, 'name': 'John', 'percent': 87.5}; print(d); print(id(d))\n",
        "d['roll'] = 'sno' ;  print(d) ; print(id(d))"
      ],
      "metadata": {
        "colab": {
          "base_uri": "https://localhost:8080/"
        },
        "id": "W0tmfSV0nVv1",
        "outputId": "c9239d88-4be2-4780-d073-e110b2138617"
      },
      "execution_count": null,
      "outputs": [
        {
          "output_type": "stream",
          "name": "stdout",
          "text": [
            "{'roll': 101, 'name': 'John', 'percent': 87.5}\n",
            "138624710543744\n",
            "{'roll': 'sno', 'name': 'John', 'percent': 87.5}\n",
            "138624710543744\n"
          ]
        }
      ]
    },
    {
      "cell_type": "code",
      "source": [
        "s = {10, 89.5, 'Python', True, 'hello', 1000, True}; print(s);  print(id(s))    # Memory location\n",
        "s[1] = 50 ;  print(s) ; print(id(s))"
      ],
      "metadata": {
        "colab": {
          "base_uri": "https://localhost:8080/",
          "height": 232
        },
        "id": "2oHj3eLXoA3J",
        "outputId": "89638a63-6545-454a-c98b-bda8c303ce9c"
      },
      "execution_count": null,
      "outputs": [
        {
          "output_type": "stream",
          "name": "stdout",
          "text": [
            "{'hello', True, 'Python', 1000, 89.5, 10}\n",
            "138624712601696\n"
          ]
        },
        {
          "output_type": "error",
          "ename": "TypeError",
          "evalue": "ignored",
          "traceback": [
            "\u001b[0;31m---------------------------------------------------------------------------\u001b[0m",
            "\u001b[0;31mTypeError\u001b[0m                                 Traceback (most recent call last)",
            "\u001b[0;32m<ipython-input-4-f77b8154011d>\u001b[0m in \u001b[0;36m<cell line: 2>\u001b[0;34m()\u001b[0m\n\u001b[1;32m      1\u001b[0m \u001b[0ms\u001b[0m \u001b[0;34m=\u001b[0m \u001b[0;34m{\u001b[0m\u001b[0;36m10\u001b[0m\u001b[0;34m,\u001b[0m \u001b[0;36m89.5\u001b[0m\u001b[0;34m,\u001b[0m \u001b[0;34m'Python'\u001b[0m\u001b[0;34m,\u001b[0m \u001b[0;32mTrue\u001b[0m\u001b[0;34m,\u001b[0m \u001b[0;34m'hello'\u001b[0m\u001b[0;34m,\u001b[0m \u001b[0;36m1000\u001b[0m\u001b[0;34m,\u001b[0m \u001b[0;32mTrue\u001b[0m\u001b[0;34m}\u001b[0m\u001b[0;34m;\u001b[0m \u001b[0mprint\u001b[0m\u001b[0;34m(\u001b[0m\u001b[0ms\u001b[0m\u001b[0;34m)\u001b[0m\u001b[0;34m;\u001b[0m  \u001b[0mprint\u001b[0m\u001b[0;34m(\u001b[0m\u001b[0mid\u001b[0m\u001b[0;34m(\u001b[0m\u001b[0ms\u001b[0m\u001b[0;34m)\u001b[0m\u001b[0;34m)\u001b[0m    \u001b[0;31m# Memory location\u001b[0m\u001b[0;34m\u001b[0m\u001b[0;34m\u001b[0m\u001b[0m\n\u001b[0;32m----> 2\u001b[0;31m \u001b[0ms\u001b[0m\u001b[0;34m[\u001b[0m\u001b[0;36m1\u001b[0m\u001b[0;34m]\u001b[0m \u001b[0;34m=\u001b[0m \u001b[0;36m50\u001b[0m \u001b[0;34m;\u001b[0m  \u001b[0mprint\u001b[0m\u001b[0;34m(\u001b[0m\u001b[0ms\u001b[0m\u001b[0;34m)\u001b[0m \u001b[0;34m;\u001b[0m \u001b[0mprint\u001b[0m\u001b[0;34m(\u001b[0m\u001b[0mid\u001b[0m\u001b[0;34m(\u001b[0m\u001b[0ms\u001b[0m\u001b[0;34m)\u001b[0m\u001b[0;34m)\u001b[0m\u001b[0;34m\u001b[0m\u001b[0;34m\u001b[0m\u001b[0m\n\u001b[0m",
            "\u001b[0;31mTypeError\u001b[0m: 'set' object does not support item assignment"
          ]
        }
      ]
    },
    {
      "cell_type": "code",
      "source": [
        "l1 = [10, 20.5, 'bye', [10, 20, 30], (1,2,3), 'python']  ; print(l1) ; print(l1[3]); print(l1[3][1])"
      ],
      "metadata": {
        "colab": {
          "base_uri": "https://localhost:8080/"
        },
        "id": "1RS-HT_kozwg",
        "outputId": "0bae4d7f-c781-4865-ea36-9a4b9eee180c"
      },
      "execution_count": null,
      "outputs": [
        {
          "output_type": "stream",
          "name": "stdout",
          "text": [
            "[10, 20.5, 'bye', [10, 20, 30], (1, 2, 3), 'python']\n",
            "[10, 20, 30]\n",
            "20\n"
          ]
        }
      ]
    },
    {
      "cell_type": "code",
      "source": [
        "t1 = (10, 20.5, 'bye', [10, 20, 30], (1,2,3), 'python')  ; print(t1); print(t1[3][1])"
      ],
      "metadata": {
        "colab": {
          "base_uri": "https://localhost:8080/"
        },
        "id": "MT6dnwjKpajO",
        "outputId": "585cd1cb-eb64-4bdf-e6f0-eb1b1f270e65"
      },
      "execution_count": null,
      "outputs": [
        {
          "output_type": "stream",
          "name": "stdout",
          "text": [
            "(10, 20.5, 'bye', [10, 20, 30], (1, 2, 3), 'python')\n",
            "20\n"
          ]
        }
      ]
    },
    {
      "cell_type": "code",
      "source": [
        "t1 = {10, 20.5, 'bye', [10, 20, 30], (1,2,3), 'python'}  ; print(t1); print(t1[3][1])"
      ],
      "metadata": {
        "colab": {
          "base_uri": "https://localhost:8080/",
          "height": 178
        },
        "id": "6T-SU9mMpoZp",
        "outputId": "2ea8dcf2-9b0c-47a8-f18b-738b78088a8f"
      },
      "execution_count": null,
      "outputs": [
        {
          "output_type": "error",
          "ename": "TypeError",
          "evalue": "ignored",
          "traceback": [
            "\u001b[0;31m---------------------------------------------------------------------------\u001b[0m",
            "\u001b[0;31mTypeError\u001b[0m                                 Traceback (most recent call last)",
            "\u001b[0;32m<ipython-input-10-d0722b95024d>\u001b[0m in \u001b[0;36m<cell line: 1>\u001b[0;34m()\u001b[0m\n\u001b[0;32m----> 1\u001b[0;31m \u001b[0mt1\u001b[0m \u001b[0;34m=\u001b[0m \u001b[0;34m{\u001b[0m\u001b[0;36m10\u001b[0m\u001b[0;34m,\u001b[0m \u001b[0;36m20.5\u001b[0m\u001b[0;34m,\u001b[0m \u001b[0;34m'bye'\u001b[0m\u001b[0;34m,\u001b[0m \u001b[0;34m[\u001b[0m\u001b[0;36m10\u001b[0m\u001b[0;34m,\u001b[0m \u001b[0;36m20\u001b[0m\u001b[0;34m,\u001b[0m \u001b[0;36m30\u001b[0m\u001b[0;34m]\u001b[0m\u001b[0;34m,\u001b[0m \u001b[0;34m(\u001b[0m\u001b[0;36m1\u001b[0m\u001b[0;34m,\u001b[0m\u001b[0;36m2\u001b[0m\u001b[0;34m,\u001b[0m\u001b[0;36m3\u001b[0m\u001b[0;34m)\u001b[0m\u001b[0;34m,\u001b[0m \u001b[0;34m'python'\u001b[0m\u001b[0;34m}\u001b[0m  \u001b[0;34m;\u001b[0m \u001b[0mprint\u001b[0m\u001b[0;34m(\u001b[0m\u001b[0mt1\u001b[0m\u001b[0;34m)\u001b[0m\u001b[0;34m;\u001b[0m \u001b[0mprint\u001b[0m\u001b[0;34m(\u001b[0m\u001b[0mt1\u001b[0m\u001b[0;34m[\u001b[0m\u001b[0;36m3\u001b[0m\u001b[0;34m]\u001b[0m\u001b[0;34m[\u001b[0m\u001b[0;36m1\u001b[0m\u001b[0;34m]\u001b[0m\u001b[0;34m)\u001b[0m\u001b[0;34m\u001b[0m\u001b[0;34m\u001b[0m\u001b[0m\n\u001b[0m",
            "\u001b[0;31mTypeError\u001b[0m: unhashable type: 'list'"
          ]
        }
      ]
    },
    {
      "cell_type": "markdown",
      "source": [
        "#### **Conditional Statements**"
      ],
      "metadata": {
        "id": "ue7NYlbWqbH9"
      }
    },
    {
      "cell_type": "code",
      "source": [
        "num = -20\n",
        "if num < 0:\n",
        "    print(\"Number is not = 0\")"
      ],
      "metadata": {
        "colab": {
          "base_uri": "https://localhost:8080/"
        },
        "id": "YIoqVK0YqiaP",
        "outputId": "49e0f828-2d51-4974-9bda-87db6bb18d0e"
      },
      "execution_count": null,
      "outputs": [
        {
          "output_type": "stream",
          "name": "stdout",
          "text": [
            "Number is not = 0\n"
          ]
        }
      ]
    },
    {
      "cell_type": "code",
      "source": [
        "num = -20\n",
        "\n",
        "if num > 0:\n",
        "    print(\"Number is not = 0\")\n",
        "else:\n",
        "    print(\"Number is not != 0\")"
      ],
      "metadata": {
        "colab": {
          "base_uri": "https://localhost:8080/"
        },
        "id": "nIbc3wvEq0QP",
        "outputId": "9e1caf1d-0cf9-4dd0-d047-67e20cc37c62"
      },
      "execution_count": null,
      "outputs": [
        {
          "output_type": "stream",
          "name": "stdout",
          "text": [
            "Number is not != 0\n"
          ]
        }
      ]
    },
    {
      "cell_type": "code",
      "source": [
        "marks = 60                      # This is the wrong way of doing\n",
        "\n",
        "if marks >= 90:\n",
        "    grade = 'A'\n",
        "if marks >= 80:\n",
        "    grade = 'B'\n",
        "if marks >= 70:\n",
        "    grade = 'C'\n",
        "if marks >= 60:\n",
        "    grade = 'D'\n",
        "else:\n",
        "    grade = 'F'\n",
        "\n",
        "print(grade)"
      ],
      "metadata": {
        "colab": {
          "base_uri": "https://localhost:8080/"
        },
        "id": "q0spry01rYb2",
        "outputId": "8e2a1514-0a7e-49e3-9d9f-eb0736b25b5d"
      },
      "execution_count": null,
      "outputs": [
        {
          "output_type": "stream",
          "name": "stdout",
          "text": [
            "D\n"
          ]
        }
      ]
    },
    {
      "cell_type": "code",
      "source": [
        "marks = 75                    # This is the actaul way of doing\n",
        "                              # else if elif\n",
        "\n",
        "if marks >= 90:\n",
        "    grade = 'A'\n",
        "elif marks >= 80:\n",
        "    grade = 'B'\n",
        "elif marks >= 70:\n",
        "    grade = 'C'\n",
        "elif marks >= 60:\n",
        "    grade = 'D'\n",
        "else:\n",
        "    grade = 'F'\n",
        "\n",
        "print(grade)"
      ],
      "metadata": {
        "colab": {
          "base_uri": "https://localhost:8080/"
        },
        "id": "DTIWc09Er4wW",
        "outputId": "9f42bfcc-e79a-4153-d0a6-b2faf52e964d"
      },
      "execution_count": null,
      "outputs": [
        {
          "output_type": "stream",
          "name": "stdout",
          "text": [
            "C\n"
          ]
        }
      ]
    },
    {
      "cell_type": "code",
      "source": [
        "marks = 110\n",
        "\n",
        "if marks <= 100:\n",
        "    if marks >= 90:\n",
        "        grade = 'A'\n",
        "    elif marks >= 80:\n",
        "        grade = 'B'\n",
        "    elif marks >= 70:\n",
        "        grade = 'C'\n",
        "    elif marks >= 60:\n",
        "        grade = 'D'\n",
        "    else:\n",
        "        grade = 'F'\n",
        "\n",
        "    print(grade)\n",
        "else:\n",
        "    print(\"Marks should be less than or equal to 100\")"
      ],
      "metadata": {
        "colab": {
          "base_uri": "https://localhost:8080/"
        },
        "id": "d4GHiTCOrdkO",
        "outputId": "fc03c8bb-0e27-42ba-aa1d-804f142ecd7c"
      },
      "execution_count": null,
      "outputs": [
        {
          "output_type": "stream",
          "name": "stdout",
          "text": [
            "Marks should be less than or equal to 100\n"
          ]
        }
      ]
    },
    {
      "cell_type": "code",
      "source": [
        "marks = int(input(\"Enter your marks: \"))\n",
        "if marks <= 100: # False\n",
        "    if marks >= 90:\n",
        "        grade = 'A'\n",
        "    elif marks >= 80:\n",
        "        grade = 'B'\n",
        "    elif marks >= 70:\n",
        "        grade = 'C'\n",
        "    elif marks >= 60:\n",
        "        grade = 'D'\n",
        "    else:\n",
        "        grade = 'F'\n",
        "\n",
        "    print(grade)\n",
        "else:\n",
        "    print(\"Marks should be less than or equal to 100\")"
      ],
      "metadata": {
        "colab": {
          "base_uri": "https://localhost:8080/"
        },
        "id": "vC8DJqaLvI8b",
        "outputId": "1cb0526d-c7f2-43db-b5cf-0128712b16b1"
      },
      "execution_count": null,
      "outputs": [
        {
          "output_type": "stream",
          "name": "stdout",
          "text": [
            "Enter your marks: 110\n",
            "Marks should be less than or equal to 100\n"
          ]
        }
      ]
    },
    {
      "cell_type": "markdown",
      "source": [
        "## Loops"
      ],
      "metadata": {
        "id": "Gc4ZtLHovyNm"
      }
    },
    {
      "cell_type": "code",
      "source": [
        "l = [10, 8, 12, 15] ; print(l)\n",
        "l1 = l[0] ; print(l1)\n",
        "l1 = l[1] ; print(l1)"
      ],
      "metadata": {
        "colab": {
          "base_uri": "https://localhost:8080/"
        },
        "id": "0ADXRlDgv3jB",
        "outputId": "bcf17a83-9c8f-4895-d264-160625aa0704"
      },
      "execution_count": null,
      "outputs": [
        {
          "output_type": "stream",
          "name": "stdout",
          "text": [
            "[10, 8, 12, 15]\n",
            "10\n",
            "8\n"
          ]
        }
      ]
    },
    {
      "cell_type": "code",
      "source": [
        "l = [10, 8, 12, 15, 30, 35, 45, 60, 70, 84]\n",
        "for a in l:\n",
        "    print(a)"
      ],
      "metadata": {
        "colab": {
          "base_uri": "https://localhost:8080/"
        },
        "id": "f3olsjyAwFvg",
        "outputId": "8c6aa98b-53bb-47df-e9ca-4119dc5a807e"
      },
      "execution_count": null,
      "outputs": [
        {
          "output_type": "stream",
          "name": "stdout",
          "text": [
            "10\n",
            "8\n",
            "12\n",
            "15\n",
            "30\n",
            "35\n",
            "45\n",
            "60\n",
            "70\n",
            "84\n"
          ]
        }
      ]
    },
    {
      "cell_type": "code",
      "source": [
        "str1 = \"hello\"\n",
        "s1 = str1[0]; s1"
      ],
      "metadata": {
        "colab": {
          "base_uri": "https://localhost:8080/",
          "height": 35
        },
        "id": "Y5BpCHrPxHGk",
        "outputId": "61a07d9d-62d5-4d60-dd47-c9a80d9170e5"
      },
      "execution_count": null,
      "outputs": [
        {
          "output_type": "execute_result",
          "data": {
            "text/plain": [
              "'h'"
            ],
            "application/vnd.google.colaboratory.intrinsic+json": {
              "type": "string"
            }
          },
          "metadata": {},
          "execution_count": 8
        }
      ]
    },
    {
      "cell_type": "code",
      "source": [
        "str1 = \"hello\"\n",
        "for a in str1:\n",
        "  print(a)"
      ],
      "metadata": {
        "colab": {
          "base_uri": "https://localhost:8080/"
        },
        "id": "l62X2-yGxdSO",
        "outputId": "56a23481-62b9-4bb2-e5c4-595f2a18102a"
      },
      "execution_count": null,
      "outputs": [
        {
          "output_type": "stream",
          "name": "stdout",
          "text": [
            "h\n",
            "e\n",
            "l\n",
            "l\n",
            "o\n"
          ]
        }
      ]
    },
    {
      "cell_type": "code",
      "source": [
        "set1 = {8, 0, 3, -1, 4}\n",
        "for i in set1:\n",
        "    print(i)"
      ],
      "metadata": {
        "colab": {
          "base_uri": "https://localhost:8080/"
        },
        "id": "e5lPAO1uxpr0",
        "outputId": "b92d773a-3089-4a27-da2a-612c03c5a805"
      },
      "execution_count": null,
      "outputs": [
        {
          "output_type": "stream",
          "name": "stdout",
          "text": [
            "0\n",
            "3\n",
            "4\n",
            "8\n",
            "-1\n"
          ]
        }
      ]
    },
    {
      "cell_type": "code",
      "source": [
        "d1 = {'a': 1, 'b': 2, 'c': 3, 'd': 4}\n",
        "for i in d1:\n",
        "    print(i)"
      ],
      "metadata": {
        "colab": {
          "base_uri": "https://localhost:8080/"
        },
        "id": "UBQpVYSzxvI4",
        "outputId": "0d81761f-3d3c-47d9-d7b2-fe176e1aced7"
      },
      "execution_count": null,
      "outputs": [
        {
          "output_type": "stream",
          "name": "stdout",
          "text": [
            "a\n",
            "b\n",
            "c\n",
            "d\n"
          ]
        }
      ]
    },
    {
      "cell_type": "code",
      "source": [
        "d1 = {'a': 1, 'b': 2, 'c': 3, 'd': 4}\n",
        "for i in d1:\n",
        "    print(d1[i])"
      ],
      "metadata": {
        "colab": {
          "base_uri": "https://localhost:8080/"
        },
        "id": "B-CFgsNUyQ8K",
        "outputId": "5bdde4e5-ee7c-4877-aa75-6536d2bfd358"
      },
      "execution_count": null,
      "outputs": [
        {
          "output_type": "stream",
          "name": "stdout",
          "text": [
            "1\n",
            "2\n",
            "3\n",
            "4\n"
          ]
        }
      ]
    },
    {
      "cell_type": "code",
      "source": [
        "for i in d1:\n",
        "    print(f\"{i}:{d1[i]}\")"
      ],
      "metadata": {
        "colab": {
          "base_uri": "https://localhost:8080/"
        },
        "id": "EKsDT4wEygYn",
        "outputId": "5274abbe-dbcf-4838-fd8d-653ba211bdc0"
      },
      "execution_count": null,
      "outputs": [
        {
          "output_type": "stream",
          "name": "stdout",
          "text": [
            "a:1\n",
            "b:2\n",
            "c:3\n",
            "d:4\n"
          ]
        }
      ]
    },
    {
      "cell_type": "code",
      "source": [
        "s1 = 'Good morning!' ;      print(s1)\n",
        "start = 3\n",
        "stop = 7\n",
        "step = 1\n",
        "s1[start:stop:step]"
      ],
      "metadata": {
        "colab": {
          "base_uri": "https://localhost:8080/",
          "height": 53
        },
        "id": "CedYF1jq0S9p",
        "outputId": "d3ffc697-36d6-4f3d-f6a3-fe50597e0445"
      },
      "execution_count": null,
      "outputs": [
        {
          "output_type": "stream",
          "name": "stdout",
          "text": [
            "Good morning!\n"
          ]
        },
        {
          "output_type": "execute_result",
          "data": {
            "text/plain": [
              "'d mo'"
            ],
            "application/vnd.google.colaboratory.intrinsic+json": {
              "type": "string"
            }
          },
          "metadata": {},
          "execution_count": 27
        }
      ]
    },
    {
      "cell_type": "code",
      "source": [
        "r = range(10, 15, 1); print(r)\n",
        "r1 = list(r); r1"
      ],
      "metadata": {
        "colab": {
          "base_uri": "https://localhost:8080/"
        },
        "id": "99u2HDh10qhU",
        "outputId": "54ead6d4-6d0d-4b6f-ae75-c55f2d990ff9"
      },
      "execution_count": null,
      "outputs": [
        {
          "output_type": "stream",
          "name": "stdout",
          "text": [
            "range(10, 15)\n"
          ]
        },
        {
          "output_type": "execute_result",
          "data": {
            "text/plain": [
              "[10, 11, 12, 13, 14]"
            ]
          },
          "metadata": {},
          "execution_count": 57
        }
      ]
    },
    {
      "cell_type": "code",
      "source": [
        "r = range(10, 15, 2); print(r)\n",
        "r2 = tuple(r); r2"
      ],
      "metadata": {
        "colab": {
          "base_uri": "https://localhost:8080/"
        },
        "id": "HPaFLBA917Oh",
        "outputId": "6cc8c990-8e25-4ce0-c4f7-fc50f1d91374"
      },
      "execution_count": null,
      "outputs": [
        {
          "output_type": "stream",
          "name": "stdout",
          "text": [
            "range(10, 15, 2)\n"
          ]
        },
        {
          "output_type": "execute_result",
          "data": {
            "text/plain": [
              "(10, 12, 14)"
            ]
          },
          "metadata": {},
          "execution_count": 59
        }
      ]
    },
    {
      "cell_type": "code",
      "source": [
        "r = range(10, 20, 1); print(r)\n",
        "r3 = tuple(r); r3"
      ],
      "metadata": {
        "colab": {
          "base_uri": "https://localhost:8080/"
        },
        "id": "BfDit92i1_nh",
        "outputId": "a810c75e-24b1-470b-833f-f05f3b54d8ac"
      },
      "execution_count": null,
      "outputs": [
        {
          "output_type": "stream",
          "name": "stdout",
          "text": [
            "range(10, 20)\n"
          ]
        },
        {
          "output_type": "execute_result",
          "data": {
            "text/plain": [
              "(10, 11, 12, 13, 14, 15, 16, 17, 18, 19)"
            ]
          },
          "metadata": {},
          "execution_count": 60
        }
      ]
    },
    {
      "cell_type": "code",
      "source": [
        "for number in range(1, 20):\n",
        "    print(number)"
      ],
      "metadata": {
        "colab": {
          "base_uri": "https://localhost:8080/"
        },
        "id": "5gAKOCBo2uou",
        "outputId": "fc094f4c-e3f5-4c0c-deb7-24072b226886"
      },
      "execution_count": null,
      "outputs": [
        {
          "output_type": "stream",
          "name": "stdout",
          "text": [
            "1\n",
            "2\n",
            "3\n",
            "4\n",
            "5\n",
            "6\n",
            "7\n",
            "8\n",
            "9\n",
            "10\n",
            "11\n",
            "12\n",
            "13\n",
            "14\n",
            "15\n",
            "16\n",
            "17\n",
            "18\n",
            "19\n"
          ]
        }
      ]
    },
    {
      "cell_type": "code",
      "source": [
        "for number in range(1, 30):   # Odd\n",
        "    if number % 2 != 0:\n",
        "        print(number)"
      ],
      "metadata": {
        "colab": {
          "base_uri": "https://localhost:8080/"
        },
        "id": "sclfnWM43C4D",
        "outputId": "38b6591e-467a-4911-f5e0-b3b53eb3f481"
      },
      "execution_count": null,
      "outputs": [
        {
          "output_type": "stream",
          "name": "stdout",
          "text": [
            "1\n",
            "3\n",
            "5\n",
            "7\n",
            "9\n",
            "11\n",
            "13\n",
            "15\n",
            "17\n",
            "19\n",
            "21\n",
            "23\n",
            "25\n",
            "27\n",
            "29\n"
          ]
        }
      ]
    },
    {
      "cell_type": "code",
      "source": [
        "for number in range(2, 30, 2):    # Even\n",
        "    print(number)"
      ],
      "metadata": {
        "colab": {
          "base_uri": "https://localhost:8080/"
        },
        "id": "MxsYx-UY3fiv",
        "outputId": "556c4c5f-673a-4305-a668-7d681ab5d456"
      },
      "execution_count": null,
      "outputs": [
        {
          "output_type": "stream",
          "name": "stdout",
          "text": [
            "2\n",
            "4\n",
            "6\n",
            "8\n",
            "10\n",
            "12\n",
            "14\n",
            "16\n",
            "18\n",
            "20\n",
            "22\n",
            "24\n",
            "26\n",
            "28\n"
          ]
        }
      ]
    },
    {
      "cell_type": "code",
      "source": [
        "num = 10\n",
        "while num <= 18:\n",
        "    print(num)\n",
        "    num += 1\n"
      ],
      "metadata": {
        "colab": {
          "base_uri": "https://localhost:8080/"
        },
        "id": "Q5ZMBd8-3-I_",
        "outputId": "6c9f8ecc-5dc8-42bb-b723-cd9cc102d75a"
      },
      "execution_count": null,
      "outputs": [
        {
          "output_type": "stream",
          "name": "stdout",
          "text": [
            "10\n",
            "11\n",
            "12\n",
            "13\n",
            "14\n",
            "15\n",
            "16\n",
            "17\n",
            "18\n"
          ]
        }
      ]
    },
    {
      "cell_type": "code",
      "source": [
        "for i in range(10):\n",
        "    print(i)\n"
      ],
      "metadata": {
        "colab": {
          "base_uri": "https://localhost:8080/"
        },
        "id": "Wn9Kb5goGfda",
        "outputId": "c80196b3-f17e-41c6-fad5-80b5f58313cd"
      },
      "execution_count": null,
      "outputs": [
        {
          "output_type": "stream",
          "name": "stdout",
          "text": [
            "0\n",
            "1\n",
            "2\n",
            "3\n",
            "4\n",
            "5\n",
            "6\n",
            "7\n",
            "8\n",
            "9\n"
          ]
        }
      ]
    },
    {
      "cell_type": "code",
      "source": [
        "for i in range(10):\n",
        "    if i == 5:\n",
        "        break\n",
        "    print(i)"
      ],
      "metadata": {
        "colab": {
          "base_uri": "https://localhost:8080/"
        },
        "id": "eh_wEShLGtBz",
        "outputId": "0d31a201-60e3-4be4-e597-2e830403f742"
      },
      "execution_count": null,
      "outputs": [
        {
          "output_type": "stream",
          "name": "stdout",
          "text": [
            "0\n",
            "1\n",
            "2\n",
            "3\n",
            "4\n"
          ]
        }
      ]
    },
    {
      "cell_type": "code",
      "source": [
        "for i in range(10):\n",
        "    if i == 5:\n",
        "        continue\n",
        "    print(i)"
      ],
      "metadata": {
        "colab": {
          "base_uri": "https://localhost:8080/"
        },
        "id": "KYfziv4ZG3-v",
        "outputId": "dc4b1f5b-9193-4e38-9c22-05aefc7684db"
      },
      "execution_count": null,
      "outputs": [
        {
          "output_type": "stream",
          "name": "stdout",
          "text": [
            "0\n",
            "1\n",
            "2\n",
            "3\n",
            "4\n",
            "6\n",
            "7\n",
            "8\n",
            "9\n"
          ]
        }
      ]
    },
    {
      "cell_type": "code",
      "source": [
        "for i in range(10):\n",
        "    if i == 5:\n",
        "        pass\n",
        "    print(i)"
      ],
      "metadata": {
        "colab": {
          "base_uri": "https://localhost:8080/"
        },
        "id": "ZgeH5bcxHGq-",
        "outputId": "427b635a-18f4-41e2-ef8c-fea230b548c9"
      },
      "execution_count": null,
      "outputs": [
        {
          "output_type": "stream",
          "name": "stdout",
          "text": [
            "0\n",
            "1\n",
            "2\n",
            "3\n",
            "4\n",
            "5\n",
            "6\n",
            "7\n",
            "8\n",
            "9\n"
          ]
        }
      ]
    },
    {
      "cell_type": "code",
      "source": [
        "num = 100\n",
        "if num < 0:\n",
        "else:\n",
        "    print(\"bye\")"
      ],
      "metadata": {
        "colab": {
          "base_uri": "https://localhost:8080/",
          "height": 143
        },
        "id": "l7UxhYNuHMzB",
        "outputId": "fca21c84-f858-4585-8afa-2c923791beb3"
      },
      "execution_count": null,
      "outputs": [
        {
          "output_type": "error",
          "ename": "IndentationError",
          "evalue": "ignored",
          "traceback": [
            "\u001b[0;36m  File \u001b[0;32m\"<ipython-input-22-86ca73f05f91>\"\u001b[0;36m, line \u001b[0;32m3\u001b[0m\n\u001b[0;31m    else:\u001b[0m\n\u001b[0m    ^\u001b[0m\n\u001b[0;31mIndentationError\u001b[0m\u001b[0;31m:\u001b[0m expected an indented block after 'if' statement on line 2\n"
          ]
        }
      ]
    },
    {
      "cell_type": "code",
      "source": [
        "num = 100\n",
        "if num < 0:\n",
        "    pass\n",
        "else:\n",
        "    print(\"bye\")"
      ],
      "metadata": {
        "colab": {
          "base_uri": "https://localhost:8080/"
        },
        "id": "ZTjFa0GGHUas",
        "outputId": "a3bbbb0f-3c53-4964-b4b2-82f2956ad26f"
      },
      "execution_count": null,
      "outputs": [
        {
          "output_type": "stream",
          "name": "stdout",
          "text": [
            "bye\n"
          ]
        }
      ]
    },
    {
      "cell_type": "code",
      "source": [
        "for i in range(3):\n",
        "    print(i)"
      ],
      "metadata": {
        "colab": {
          "base_uri": "https://localhost:8080/"
        },
        "id": "Eg2zWJgeIE3l",
        "outputId": "c73c7ba2-cb67-4a2c-f60f-e287024b15bf"
      },
      "execution_count": null,
      "outputs": [
        {
          "output_type": "stream",
          "name": "stdout",
          "text": [
            "0\n",
            "1\n",
            "2\n"
          ]
        }
      ]
    },
    {
      "cell_type": "code",
      "source": [
        "for i in range(3):\n",
        "    for j in range(3):\n",
        "        print(i, j)"
      ],
      "metadata": {
        "colab": {
          "base_uri": "https://localhost:8080/"
        },
        "id": "jEPkhrjkIKQE",
        "outputId": "0fdfaad0-850a-4535-f00e-c6bf2b669cbe"
      },
      "execution_count": null,
      "outputs": [
        {
          "output_type": "stream",
          "name": "stdout",
          "text": [
            "0 0\n",
            "0 1\n",
            "0 2\n",
            "1 0\n",
            "1 1\n",
            "1 2\n",
            "2 0\n",
            "2 1\n",
            "2 2\n"
          ]
        }
      ]
    },
    {
      "cell_type": "code",
      "source": [
        "for i in range(3):\n",
        "    for j in range(3):\n",
        "        for k in range(3):\n",
        "            print(i, j, k)"
      ],
      "metadata": {
        "colab": {
          "base_uri": "https://localhost:8080/"
        },
        "id": "uT66JIu3IgV9",
        "outputId": "2b7a1c8b-abe5-40cb-e87b-c02f9e706352"
      },
      "execution_count": null,
      "outputs": [
        {
          "output_type": "stream",
          "name": "stdout",
          "text": [
            "0 0 0\n",
            "0 0 1\n",
            "0 0 2\n",
            "0 1 0\n",
            "0 1 1\n",
            "0 1 2\n",
            "0 2 0\n",
            "0 2 1\n",
            "0 2 2\n",
            "1 0 0\n",
            "1 0 1\n",
            "1 0 2\n",
            "1 1 0\n",
            "1 1 1\n",
            "1 1 2\n",
            "1 2 0\n",
            "1 2 1\n",
            "1 2 2\n",
            "2 0 0\n",
            "2 0 1\n",
            "2 0 2\n",
            "2 1 0\n",
            "2 1 1\n",
            "2 1 2\n",
            "2 2 0\n",
            "2 2 1\n",
            "2 2 2\n"
          ]
        }
      ]
    },
    {
      "cell_type": "markdown",
      "source": [
        "# Class intermid"
      ],
      "metadata": {
        "id": "3QP8UXRMJWJ9"
      }
    },
    {
      "cell_type": "code",
      "source": [
        "# Strings"
      ],
      "metadata": {
        "id": "Qv8v660oJZ9Q"
      },
      "execution_count": null,
      "outputs": []
    },
    {
      "cell_type": "code",
      "source": [
        "help(str)"
      ],
      "metadata": {
        "colab": {
          "base_uri": "https://localhost:8080/"
        },
        "id": "TeyBiOHcJema",
        "outputId": "171c7e64-27c9-4d9d-c3fb-0088a694abef"
      },
      "execution_count": null,
      "outputs": [
        {
          "output_type": "stream",
          "name": "stdout",
          "text": [
            "Help on class str in module builtins:\n",
            "\n",
            "class str(object)\n",
            " |  str(object='') -> str\n",
            " |  str(bytes_or_buffer[, encoding[, errors]]) -> str\n",
            " |  \n",
            " |  Create a new string object from the given object. If encoding or\n",
            " |  errors is specified, then the object must expose a data buffer\n",
            " |  that will be decoded using the given encoding and error handler.\n",
            " |  Otherwise, returns the result of object.__str__() (if defined)\n",
            " |  or repr(object).\n",
            " |  encoding defaults to sys.getdefaultencoding().\n",
            " |  errors defaults to 'strict'.\n",
            " |  \n",
            " |  Methods defined here:\n",
            " |  \n",
            " |  __add__(self, value, /)\n",
            " |      Return self+value.\n",
            " |  \n",
            " |  __contains__(self, key, /)\n",
            " |      Return key in self.\n",
            " |  \n",
            " |  __eq__(self, value, /)\n",
            " |      Return self==value.\n",
            " |  \n",
            " |  __format__(self, format_spec, /)\n",
            " |      Return a formatted version of the string as described by format_spec.\n",
            " |  \n",
            " |  __ge__(self, value, /)\n",
            " |      Return self>=value.\n",
            " |  \n",
            " |  __getattribute__(self, name, /)\n",
            " |      Return getattr(self, name).\n",
            " |  \n",
            " |  __getitem__(self, key, /)\n",
            " |      Return self[key].\n",
            " |  \n",
            " |  __getnewargs__(...)\n",
            " |  \n",
            " |  __gt__(self, value, /)\n",
            " |      Return self>value.\n",
            " |  \n",
            " |  __hash__(self, /)\n",
            " |      Return hash(self).\n",
            " |  \n",
            " |  __iter__(self, /)\n",
            " |      Implement iter(self).\n",
            " |  \n",
            " |  __le__(self, value, /)\n",
            " |      Return self<=value.\n",
            " |  \n",
            " |  __len__(self, /)\n",
            " |      Return len(self).\n",
            " |  \n",
            " |  __lt__(self, value, /)\n",
            " |      Return self<value.\n",
            " |  \n",
            " |  __mod__(self, value, /)\n",
            " |      Return self%value.\n",
            " |  \n",
            " |  __mul__(self, value, /)\n",
            " |      Return self*value.\n",
            " |  \n",
            " |  __ne__(self, value, /)\n",
            " |      Return self!=value.\n",
            " |  \n",
            " |  __repr__(self, /)\n",
            " |      Return repr(self).\n",
            " |  \n",
            " |  __rmod__(self, value, /)\n",
            " |      Return value%self.\n",
            " |  \n",
            " |  __rmul__(self, value, /)\n",
            " |      Return value*self.\n",
            " |  \n",
            " |  __sizeof__(self, /)\n",
            " |      Return the size of the string in memory, in bytes.\n",
            " |  \n",
            " |  __str__(self, /)\n",
            " |      Return str(self).\n",
            " |  \n",
            " |  capitalize(self, /)\n",
            " |      Return a capitalized version of the string.\n",
            " |      \n",
            " |      More specifically, make the first character have upper case and the rest lower\n",
            " |      case.\n",
            " |  \n",
            " |  casefold(self, /)\n",
            " |      Return a version of the string suitable for caseless comparisons.\n",
            " |  \n",
            " |  center(self, width, fillchar=' ', /)\n",
            " |      Return a centered string of length width.\n",
            " |      \n",
            " |      Padding is done using the specified fill character (default is a space).\n",
            " |  \n",
            " |  count(...)\n",
            " |      S.count(sub[, start[, end]]) -> int\n",
            " |      \n",
            " |      Return the number of non-overlapping occurrences of substring sub in\n",
            " |      string S[start:end].  Optional arguments start and end are\n",
            " |      interpreted as in slice notation.\n",
            " |  \n",
            " |  encode(self, /, encoding='utf-8', errors='strict')\n",
            " |      Encode the string using the codec registered for encoding.\n",
            " |      \n",
            " |      encoding\n",
            " |        The encoding in which to encode the string.\n",
            " |      errors\n",
            " |        The error handling scheme to use for encoding errors.\n",
            " |        The default is 'strict' meaning that encoding errors raise a\n",
            " |        UnicodeEncodeError.  Other possible values are 'ignore', 'replace' and\n",
            " |        'xmlcharrefreplace' as well as any other name registered with\n",
            " |        codecs.register_error that can handle UnicodeEncodeErrors.\n",
            " |  \n",
            " |  endswith(...)\n",
            " |      S.endswith(suffix[, start[, end]]) -> bool\n",
            " |      \n",
            " |      Return True if S ends with the specified suffix, False otherwise.\n",
            " |      With optional start, test S beginning at that position.\n",
            " |      With optional end, stop comparing S at that position.\n",
            " |      suffix can also be a tuple of strings to try.\n",
            " |  \n",
            " |  expandtabs(self, /, tabsize=8)\n",
            " |      Return a copy where all tab characters are expanded using spaces.\n",
            " |      \n",
            " |      If tabsize is not given, a tab size of 8 characters is assumed.\n",
            " |  \n",
            " |  find(...)\n",
            " |      S.find(sub[, start[, end]]) -> int\n",
            " |      \n",
            " |      Return the lowest index in S where substring sub is found,\n",
            " |      such that sub is contained within S[start:end].  Optional\n",
            " |      arguments start and end are interpreted as in slice notation.\n",
            " |      \n",
            " |      Return -1 on failure.\n",
            " |  \n",
            " |  format(...)\n",
            " |      S.format(*args, **kwargs) -> str\n",
            " |      \n",
            " |      Return a formatted version of S, using substitutions from args and kwargs.\n",
            " |      The substitutions are identified by braces ('{' and '}').\n",
            " |  \n",
            " |  format_map(...)\n",
            " |      S.format_map(mapping) -> str\n",
            " |      \n",
            " |      Return a formatted version of S, using substitutions from mapping.\n",
            " |      The substitutions are identified by braces ('{' and '}').\n",
            " |  \n",
            " |  index(...)\n",
            " |      S.index(sub[, start[, end]]) -> int\n",
            " |      \n",
            " |      Return the lowest index in S where substring sub is found,\n",
            " |      such that sub is contained within S[start:end].  Optional\n",
            " |      arguments start and end are interpreted as in slice notation.\n",
            " |      \n",
            " |      Raises ValueError when the substring is not found.\n",
            " |  \n",
            " |  isalnum(self, /)\n",
            " |      Return True if the string is an alpha-numeric string, False otherwise.\n",
            " |      \n",
            " |      A string is alpha-numeric if all characters in the string are alpha-numeric and\n",
            " |      there is at least one character in the string.\n",
            " |  \n",
            " |  isalpha(self, /)\n",
            " |      Return True if the string is an alphabetic string, False otherwise.\n",
            " |      \n",
            " |      A string is alphabetic if all characters in the string are alphabetic and there\n",
            " |      is at least one character in the string.\n",
            " |  \n",
            " |  isascii(self, /)\n",
            " |      Return True if all characters in the string are ASCII, False otherwise.\n",
            " |      \n",
            " |      ASCII characters have code points in the range U+0000-U+007F.\n",
            " |      Empty string is ASCII too.\n",
            " |  \n",
            " |  isdecimal(self, /)\n",
            " |      Return True if the string is a decimal string, False otherwise.\n",
            " |      \n",
            " |      A string is a decimal string if all characters in the string are decimal and\n",
            " |      there is at least one character in the string.\n",
            " |  \n",
            " |  isdigit(self, /)\n",
            " |      Return True if the string is a digit string, False otherwise.\n",
            " |      \n",
            " |      A string is a digit string if all characters in the string are digits and there\n",
            " |      is at least one character in the string.\n",
            " |  \n",
            " |  isidentifier(self, /)\n",
            " |      Return True if the string is a valid Python identifier, False otherwise.\n",
            " |      \n",
            " |      Call keyword.iskeyword(s) to test whether string s is a reserved identifier,\n",
            " |      such as \"def\" or \"class\".\n",
            " |  \n",
            " |  islower(self, /)\n",
            " |      Return True if the string is a lowercase string, False otherwise.\n",
            " |      \n",
            " |      A string is lowercase if all cased characters in the string are lowercase and\n",
            " |      there is at least one cased character in the string.\n",
            " |  \n",
            " |  isnumeric(self, /)\n",
            " |      Return True if the string is a numeric string, False otherwise.\n",
            " |      \n",
            " |      A string is numeric if all characters in the string are numeric and there is at\n",
            " |      least one character in the string.\n",
            " |  \n",
            " |  isprintable(self, /)\n",
            " |      Return True if the string is printable, False otherwise.\n",
            " |      \n",
            " |      A string is printable if all of its characters are considered printable in\n",
            " |      repr() or if it is empty.\n",
            " |  \n",
            " |  isspace(self, /)\n",
            " |      Return True if the string is a whitespace string, False otherwise.\n",
            " |      \n",
            " |      A string is whitespace if all characters in the string are whitespace and there\n",
            " |      is at least one character in the string.\n",
            " |  \n",
            " |  istitle(self, /)\n",
            " |      Return True if the string is a title-cased string, False otherwise.\n",
            " |      \n",
            " |      In a title-cased string, upper- and title-case characters may only\n",
            " |      follow uncased characters and lowercase characters only cased ones.\n",
            " |  \n",
            " |  isupper(self, /)\n",
            " |      Return True if the string is an uppercase string, False otherwise.\n",
            " |      \n",
            " |      A string is uppercase if all cased characters in the string are uppercase and\n",
            " |      there is at least one cased character in the string.\n",
            " |  \n",
            " |  join(self, iterable, /)\n",
            " |      Concatenate any number of strings.\n",
            " |      \n",
            " |      The string whose method is called is inserted in between each given string.\n",
            " |      The result is returned as a new string.\n",
            " |      \n",
            " |      Example: '.'.join(['ab', 'pq', 'rs']) -> 'ab.pq.rs'\n",
            " |  \n",
            " |  ljust(self, width, fillchar=' ', /)\n",
            " |      Return a left-justified string of length width.\n",
            " |      \n",
            " |      Padding is done using the specified fill character (default is a space).\n",
            " |  \n",
            " |  lower(self, /)\n",
            " |      Return a copy of the string converted to lowercase.\n",
            " |  \n",
            " |  lstrip(self, chars=None, /)\n",
            " |      Return a copy of the string with leading whitespace removed.\n",
            " |      \n",
            " |      If chars is given and not None, remove characters in chars instead.\n",
            " |  \n",
            " |  partition(self, sep, /)\n",
            " |      Partition the string into three parts using the given separator.\n",
            " |      \n",
            " |      This will search for the separator in the string.  If the separator is found,\n",
            " |      returns a 3-tuple containing the part before the separator, the separator\n",
            " |      itself, and the part after it.\n",
            " |      \n",
            " |      If the separator is not found, returns a 3-tuple containing the original string\n",
            " |      and two empty strings.\n",
            " |  \n",
            " |  removeprefix(self, prefix, /)\n",
            " |      Return a str with the given prefix string removed if present.\n",
            " |      \n",
            " |      If the string starts with the prefix string, return string[len(prefix):].\n",
            " |      Otherwise, return a copy of the original string.\n",
            " |  \n",
            " |  removesuffix(self, suffix, /)\n",
            " |      Return a str with the given suffix string removed if present.\n",
            " |      \n",
            " |      If the string ends with the suffix string and that suffix is not empty,\n",
            " |      return string[:-len(suffix)]. Otherwise, return a copy of the original\n",
            " |      string.\n",
            " |  \n",
            " |  replace(self, old, new, count=-1, /)\n",
            " |      Return a copy with all occurrences of substring old replaced by new.\n",
            " |      \n",
            " |        count\n",
            " |          Maximum number of occurrences to replace.\n",
            " |          -1 (the default value) means replace all occurrences.\n",
            " |      \n",
            " |      If the optional argument count is given, only the first count occurrences are\n",
            " |      replaced.\n",
            " |  \n",
            " |  rfind(...)\n",
            " |      S.rfind(sub[, start[, end]]) -> int\n",
            " |      \n",
            " |      Return the highest index in S where substring sub is found,\n",
            " |      such that sub is contained within S[start:end].  Optional\n",
            " |      arguments start and end are interpreted as in slice notation.\n",
            " |      \n",
            " |      Return -1 on failure.\n",
            " |  \n",
            " |  rindex(...)\n",
            " |      S.rindex(sub[, start[, end]]) -> int\n",
            " |      \n",
            " |      Return the highest index in S where substring sub is found,\n",
            " |      such that sub is contained within S[start:end].  Optional\n",
            " |      arguments start and end are interpreted as in slice notation.\n",
            " |      \n",
            " |      Raises ValueError when the substring is not found.\n",
            " |  \n",
            " |  rjust(self, width, fillchar=' ', /)\n",
            " |      Return a right-justified string of length width.\n",
            " |      \n",
            " |      Padding is done using the specified fill character (default is a space).\n",
            " |  \n",
            " |  rpartition(self, sep, /)\n",
            " |      Partition the string into three parts using the given separator.\n",
            " |      \n",
            " |      This will search for the separator in the string, starting at the end. If\n",
            " |      the separator is found, returns a 3-tuple containing the part before the\n",
            " |      separator, the separator itself, and the part after it.\n",
            " |      \n",
            " |      If the separator is not found, returns a 3-tuple containing two empty strings\n",
            " |      and the original string.\n",
            " |  \n",
            " |  rsplit(self, /, sep=None, maxsplit=-1)\n",
            " |      Return a list of the substrings in the string, using sep as the separator string.\n",
            " |      \n",
            " |        sep\n",
            " |          The separator used to split the string.\n",
            " |      \n",
            " |          When set to None (the default value), will split on any whitespace\n",
            " |          character (including \\\\n \\\\r \\\\t \\\\f and spaces) and will discard\n",
            " |          empty strings from the result.\n",
            " |        maxsplit\n",
            " |          Maximum number of splits (starting from the left).\n",
            " |          -1 (the default value) means no limit.\n",
            " |      \n",
            " |      Splitting starts at the end of the string and works to the front.\n",
            " |  \n",
            " |  rstrip(self, chars=None, /)\n",
            " |      Return a copy of the string with trailing whitespace removed.\n",
            " |      \n",
            " |      If chars is given and not None, remove characters in chars instead.\n",
            " |  \n",
            " |  split(self, /, sep=None, maxsplit=-1)\n",
            " |      Return a list of the substrings in the string, using sep as the separator string.\n",
            " |      \n",
            " |        sep\n",
            " |          The separator used to split the string.\n",
            " |      \n",
            " |          When set to None (the default value), will split on any whitespace\n",
            " |          character (including \\\\n \\\\r \\\\t \\\\f and spaces) and will discard\n",
            " |          empty strings from the result.\n",
            " |        maxsplit\n",
            " |          Maximum number of splits (starting from the left).\n",
            " |          -1 (the default value) means no limit.\n",
            " |      \n",
            " |      Note, str.split() is mainly useful for data that has been intentionally\n",
            " |      delimited.  With natural text that includes punctuation, consider using\n",
            " |      the regular expression module.\n",
            " |  \n",
            " |  splitlines(self, /, keepends=False)\n",
            " |      Return a list of the lines in the string, breaking at line boundaries.\n",
            " |      \n",
            " |      Line breaks are not included in the resulting list unless keepends is given and\n",
            " |      true.\n",
            " |  \n",
            " |  startswith(...)\n",
            " |      S.startswith(prefix[, start[, end]]) -> bool\n",
            " |      \n",
            " |      Return True if S starts with the specified prefix, False otherwise.\n",
            " |      With optional start, test S beginning at that position.\n",
            " |      With optional end, stop comparing S at that position.\n",
            " |      prefix can also be a tuple of strings to try.\n",
            " |  \n",
            " |  strip(self, chars=None, /)\n",
            " |      Return a copy of the string with leading and trailing whitespace removed.\n",
            " |      \n",
            " |      If chars is given and not None, remove characters in chars instead.\n",
            " |  \n",
            " |  swapcase(self, /)\n",
            " |      Convert uppercase characters to lowercase and lowercase characters to uppercase.\n",
            " |  \n",
            " |  title(self, /)\n",
            " |      Return a version of the string where each word is titlecased.\n",
            " |      \n",
            " |      More specifically, words start with uppercased characters and all remaining\n",
            " |      cased characters have lower case.\n",
            " |  \n",
            " |  translate(self, table, /)\n",
            " |      Replace each character in the string using the given translation table.\n",
            " |      \n",
            " |        table\n",
            " |          Translation table, which must be a mapping of Unicode ordinals to\n",
            " |          Unicode ordinals, strings, or None.\n",
            " |      \n",
            " |      The table must implement lookup/indexing via __getitem__, for instance a\n",
            " |      dictionary or list.  If this operation raises LookupError, the character is\n",
            " |      left untouched.  Characters mapped to None are deleted.\n",
            " |  \n",
            " |  upper(self, /)\n",
            " |      Return a copy of the string converted to uppercase.\n",
            " |  \n",
            " |  zfill(self, width, /)\n",
            " |      Pad a numeric string with zeros on the left, to fill a field of the given width.\n",
            " |      \n",
            " |      The string is never truncated.\n",
            " |  \n",
            " |  ----------------------------------------------------------------------\n",
            " |  Static methods defined here:\n",
            " |  \n",
            " |  __new__(*args, **kwargs) from builtins.type\n",
            " |      Create and return a new object.  See help(type) for accurate signature.\n",
            " |  \n",
            " |  maketrans(...)\n",
            " |      Return a translation table usable for str.translate().\n",
            " |      \n",
            " |      If there is only one argument, it must be a dictionary mapping Unicode\n",
            " |      ordinals (integers) or characters to Unicode ordinals, strings or None.\n",
            " |      Character keys will be then converted to ordinals.\n",
            " |      If there are two arguments, they must be strings of equal length, and\n",
            " |      in the resulting dictionary, each character in x will be mapped to the\n",
            " |      character at the same position in y. If there is a third argument, it\n",
            " |      must be a string, whose characters will be mapped to None in the result.\n",
            "\n"
          ]
        }
      ]
    },
    {
      "cell_type": "code",
      "source": [
        "help(str.upper)"
      ],
      "metadata": {
        "colab": {
          "base_uri": "https://localhost:8080/"
        },
        "id": "TuNirVKzKEhY",
        "outputId": "a1628df9-9f94-4985-dea1-449d3c8ed08d"
      },
      "execution_count": null,
      "outputs": [
        {
          "output_type": "stream",
          "name": "stdout",
          "text": [
            "Help on method_descriptor:\n",
            "\n",
            "upper(self, /)\n",
            "    Return a copy of the string converted to uppercase.\n",
            "\n"
          ]
        }
      ]
    },
    {
      "cell_type": "code",
      "source": [
        "s1 = \"Hello World\";  print(s1)\n",
        "p1 = s1[0]; print(p1) # +ve indexing\n",
        "n1 = s1 [-1]; print(n1) # -ve indexing\n",
        "s = s1[2:8:2]; print(s)# Slicing"
      ],
      "metadata": {
        "colab": {
          "base_uri": "https://localhost:8080/"
        },
        "id": "e_dISoWQKZrk",
        "outputId": "0a70d77b-9ff1-409e-b734-a16950711d19"
      },
      "execution_count": null,
      "outputs": [
        {
          "output_type": "stream",
          "name": "stdout",
          "text": [
            "Hello World\n",
            "H\n",
            "d\n",
            "loW\n"
          ]
        }
      ]
    },
    {
      "cell_type": "code",
      "source": [
        "'hi' + 'bye'"
      ],
      "metadata": {
        "colab": {
          "base_uri": "https://localhost:8080/",
          "height": 35
        },
        "id": "8zbiSGzsLU1Q",
        "outputId": "268fe7d6-c3ba-4621-a2fd-7867109ed1c2"
      },
      "execution_count": null,
      "outputs": [
        {
          "output_type": "execute_result",
          "data": {
            "text/plain": [
              "'hibye'"
            ],
            "application/vnd.google.colaboratory.intrinsic+json": {
              "type": "string"
            }
          },
          "metadata": {},
          "execution_count": 36
        }
      ]
    },
    {
      "cell_type": "code",
      "source": [
        "\"hello\" + \" \" + \"bye\""
      ],
      "metadata": {
        "colab": {
          "base_uri": "https://localhost:8080/",
          "height": 35
        },
        "id": "LUcR0iFyLU8b",
        "outputId": "3cf31362-b907-431b-9693-3b05978dab49"
      },
      "execution_count": null,
      "outputs": [
        {
          "output_type": "execute_result",
          "data": {
            "text/plain": [
              "'hello bye'"
            ],
            "application/vnd.google.colaboratory.intrinsic+json": {
              "type": "string"
            }
          },
          "metadata": {},
          "execution_count": 37
        }
      ]
    },
    {
      "cell_type": "code",
      "source": [
        "'hi' + 3"
      ],
      "metadata": {
        "colab": {
          "base_uri": "https://localhost:8080/",
          "height": 178
        },
        "id": "xRQdDffELh0q",
        "outputId": "fc4b6eca-ed22-4051-f942-547f4576a4b1"
      },
      "execution_count": null,
      "outputs": [
        {
          "output_type": "error",
          "ename": "TypeError",
          "evalue": "ignored",
          "traceback": [
            "\u001b[0;31m---------------------------------------------------------------------------\u001b[0m",
            "\u001b[0;31mTypeError\u001b[0m                                 Traceback (most recent call last)",
            "\u001b[0;32m<ipython-input-38-c34c4bdac8a6>\u001b[0m in \u001b[0;36m<cell line: 1>\u001b[0;34m()\u001b[0m\n\u001b[0;32m----> 1\u001b[0;31m \u001b[0;34m'hi'\u001b[0m \u001b[0;34m+\u001b[0m \u001b[0;36m3\u001b[0m\u001b[0;34m\u001b[0m\u001b[0;34m\u001b[0m\u001b[0m\n\u001b[0m",
            "\u001b[0;31mTypeError\u001b[0m: can only concatenate str (not \"int\") to str"
          ]
        }
      ]
    },
    {
      "cell_type": "code",
      "source": [
        "language = \"Python\"\n",
        "version = 3.11\n",
        "language + version"
      ],
      "metadata": {
        "colab": {
          "base_uri": "https://localhost:8080/",
          "height": 214
        },
        "id": "XNeqA2IqLtvD",
        "outputId": "62c4a069-d86a-444e-e8fe-e250d9b7fd0a"
      },
      "execution_count": null,
      "outputs": [
        {
          "output_type": "error",
          "ename": "TypeError",
          "evalue": "ignored",
          "traceback": [
            "\u001b[0;31m---------------------------------------------------------------------------\u001b[0m",
            "\u001b[0;31mTypeError\u001b[0m                                 Traceback (most recent call last)",
            "\u001b[0;32m<ipython-input-39-011086dc68e3>\u001b[0m in \u001b[0;36m<cell line: 3>\u001b[0;34m()\u001b[0m\n\u001b[1;32m      1\u001b[0m \u001b[0mlanguage\u001b[0m \u001b[0;34m=\u001b[0m \u001b[0;34m\"Python\"\u001b[0m\u001b[0;34m\u001b[0m\u001b[0;34m\u001b[0m\u001b[0m\n\u001b[1;32m      2\u001b[0m \u001b[0mversion\u001b[0m \u001b[0;34m=\u001b[0m \u001b[0;36m3.11\u001b[0m\u001b[0;34m\u001b[0m\u001b[0;34m\u001b[0m\u001b[0m\n\u001b[0;32m----> 3\u001b[0;31m \u001b[0mlanguage\u001b[0m \u001b[0;34m+\u001b[0m \u001b[0mversion\u001b[0m\u001b[0;34m\u001b[0m\u001b[0;34m\u001b[0m\u001b[0m\n\u001b[0m",
            "\u001b[0;31mTypeError\u001b[0m: can only concatenate str (not \"float\") to str"
          ]
        }
      ]
    },
    {
      "cell_type": "code",
      "source": [
        "lan = \"Python3.11\"\n",
        "lan"
      ],
      "metadata": {
        "colab": {
          "base_uri": "https://localhost:8080/",
          "height": 35
        },
        "id": "FupSGiQpMAv8",
        "outputId": "6051905c-d0cd-4dc2-cd98-e6bf4eefeb9d"
      },
      "execution_count": null,
      "outputs": [
        {
          "output_type": "execute_result",
          "data": {
            "text/plain": [
              "'Python3.11'"
            ],
            "application/vnd.google.colaboratory.intrinsic+json": {
              "type": "string"
            }
          },
          "metadata": {},
          "execution_count": 42
        }
      ]
    },
    {
      "cell_type": "code",
      "source": [
        "language = \"Python\"\n",
        "version = '3.11'\n",
        "language + version"
      ],
      "metadata": {
        "colab": {
          "base_uri": "https://localhost:8080/",
          "height": 35
        },
        "id": "cQWnT2C6MdzB",
        "outputId": "07d9a1ed-4938-4e57-babd-a8fc1287b8b4"
      },
      "execution_count": null,
      "outputs": [
        {
          "output_type": "execute_result",
          "data": {
            "text/plain": [
              "'Python3.11'"
            ],
            "application/vnd.google.colaboratory.intrinsic+json": {
              "type": "string"
            }
          },
          "metadata": {},
          "execution_count": 44
        }
      ]
    },
    {
      "cell_type": "code",
      "source": [
        "language + str(version)"
      ],
      "metadata": {
        "colab": {
          "base_uri": "https://localhost:8080/",
          "height": 35
        },
        "id": "HAcnULyGMWft",
        "outputId": "c1d6fab9-28a8-4964-9f7d-5b9b1aa732db"
      },
      "execution_count": null,
      "outputs": [
        {
          "output_type": "execute_result",
          "data": {
            "text/plain": [
              "'Python3.11'"
            ],
            "application/vnd.google.colaboratory.intrinsic+json": {
              "type": "string"
            }
          },
          "metadata": {},
          "execution_count": 43
        }
      ]
    },
    {
      "cell_type": "code",
      "source": [
        "'hi' * 5"
      ],
      "metadata": {
        "colab": {
          "base_uri": "https://localhost:8080/",
          "height": 35
        },
        "id": "52hO3DDFMuwq",
        "outputId": "df3a4bd4-c062-48d8-b59f-8dee541f8cd2"
      },
      "execution_count": null,
      "outputs": [
        {
          "output_type": "execute_result",
          "data": {
            "text/plain": [
              "'hihihihihi'"
            ],
            "application/vnd.google.colaboratory.intrinsic+json": {
              "type": "string"
            }
          },
          "metadata": {},
          "execution_count": 45
        }
      ]
    },
    {
      "cell_type": "code",
      "source": [
        "s = 'Welcome to Python'; print(s)\n",
        "s1 = 'Py' in s; print(s1)\n",
        "s2 = s[0:2]; print(s2)\n",
        "s3 = s[0:2] in s2; print(s3)\n",
        "s4 = s[0:2] in s; print(s4)"
      ],
      "metadata": {
        "colab": {
          "base_uri": "https://localhost:8080/"
        },
        "id": "SyThH9uyM7do",
        "outputId": "061fb477-8802-4347-9746-d4f44f4b4581"
      },
      "execution_count": null,
      "outputs": [
        {
          "output_type": "stream",
          "name": "stdout",
          "text": [
            "Welcome to Python\n",
            "True\n",
            "We\n",
            "True\n",
            "True\n"
          ]
        }
      ]
    },
    {
      "cell_type": "code",
      "source": [
        "s1 = input(\"Enter a string: \")\n",
        "s2 = input(\"Enter another string: \")\n",
        "if s1 == s2:\n",
        "    print(\"Same\")\n",
        "else:\n",
        "    print(\"Different\")"
      ],
      "metadata": {
        "colab": {
          "base_uri": "https://localhost:8080/"
        },
        "id": "Q32kOpQKNZQ5",
        "outputId": "5e705722-127f-463c-f426-87e2eeafc691"
      },
      "execution_count": null,
      "outputs": [
        {
          "output_type": "stream",
          "name": "stdout",
          "text": [
            "Enter a string: j\n",
            "Enter another string: j  \n",
            "Different\n"
          ]
        }
      ]
    },
    {
      "cell_type": "code",
      "source": [
        "s3 = \"   Welcome to Python  \"     ; print(s3)"
      ],
      "metadata": {
        "colab": {
          "base_uri": "https://localhost:8080/"
        },
        "id": "RjkESci_N-8o",
        "outputId": "04b30b3f-3fc9-43fd-c419-b4c93ce47a10"
      },
      "execution_count": null,
      "outputs": [
        {
          "output_type": "stream",
          "name": "stdout",
          "text": [
            "   Welcome to Python  \n"
          ]
        }
      ]
    },
    {
      "cell_type": "code",
      "source": [
        "s4 = s3.strip(); print(s4)"
      ],
      "metadata": {
        "colab": {
          "base_uri": "https://localhost:8080/"
        },
        "id": "Ea5aan7iOHcy",
        "outputId": "e340cf85-019d-4e75-e04f-d66dc01b0c31"
      },
      "execution_count": null,
      "outputs": [
        {
          "output_type": "stream",
          "name": "stdout",
          "text": [
            "Welcome to Python\n"
          ]
        }
      ]
    },
    {
      "cell_type": "code",
      "source": [
        "s1=input(\"enter string\");\n",
        "s3=s1.strip()\n",
        "s2=input(\"enter string\");\n",
        "s4=s2.strip()\n",
        "if s3==s4:\n",
        "  print(\"Same\");\n",
        "else:\n",
        "  print(\"different\");"
      ],
      "metadata": {
        "colab": {
          "base_uri": "https://localhost:8080/"
        },
        "id": "sqtKYwMNReNV",
        "outputId": "c40b92ed-36ed-454c-8c50-573cbd223dd4"
      },
      "execution_count": null,
      "outputs": [
        {
          "output_type": "stream",
          "name": "stdout",
          "text": [
            "enter stringj\n",
            "enter stringj   \n",
            "Same\n"
          ]
        }
      ]
    },
    {
      "cell_type": "code",
      "source": [
        "s1 = input(\"Enter a string: \")\n",
        "s2 = input(\"Enter another string: \")\n",
        "if s1.strip() == s2.strip():\n",
        "    print(\"Same\")\n",
        "else:\n",
        "    print(\"Different\")"
      ],
      "metadata": {
        "colab": {
          "base_uri": "https://localhost:8080/"
        },
        "id": "PHi539ZJRpIZ",
        "outputId": "c996e44b-0fae-4a74-9c0f-62d475566b7f"
      },
      "execution_count": null,
      "outputs": [
        {
          "output_type": "stream",
          "name": "stdout",
          "text": [
            "Enter a string: j\n",
            "Enter another string: j    \n",
            "Same\n"
          ]
        }
      ]
    },
    {
      "cell_type": "code",
      "source": [
        "s1 = input(\"Enter a string: \")\n",
        "s2 = input(\"Enter another string: \")\n",
        "\n",
        "s3 = s1.strip();\n",
        "s4 = s2.strip();\n",
        "\n",
        "if s3 == s4:\n",
        "    print(\"Same\")\n",
        "else:\n",
        "    print(\"Different\")"
      ],
      "metadata": {
        "colab": {
          "base_uri": "https://localhost:8080/"
        },
        "id": "vbBuM_WlR62U",
        "outputId": "39775149-a099-40e6-98b1-932a26595c51"
      },
      "execution_count": null,
      "outputs": [
        {
          "output_type": "stream",
          "name": "stdout",
          "text": [
            "Enter a string: p\n",
            "Enter another string: p   \n",
            "Same\n"
          ]
        }
      ]
    }
  ],
  "metadata": {
    "colab": {
      "provenance": [],
      "collapsed_sections": [
        "UELlBfFszGFY",
        "IwYU1ZvQwE69",
        "Cb1zvGKbBbIT"
      ],
      "include_colab_link": true
    },
    "kernelspec": {
      "display_name": "Python 3",
      "name": "python3"
    }
  },
  "nbformat": 4,
  "nbformat_minor": 0
}